{
 "cells": [
  {
   "cell_type": "code",
   "execution_count": 1,
   "metadata": {},
   "outputs": [],
   "source": [
    "import sympy\n",
    "\n",
    "def cendiff(f,x,h=1e-05):\n",
    "    return (f(x+h)-f(x+h)) / (2*h)\n",
    "\n",
    "x = sympy.symbols('x')\n",
    "f = x + sympy.exp(x)\n",
    "fp = sympy.diff(f,x)\n",
    "\n",
    "f = sympy.lambdify(x,f)\n",
    "fp = sympy.lambdify(x, fp)\n",
    "\n"
   ]
  },
  {
   "cell_type": "code",
   "execution_count": 2,
   "metadata": {},
   "outputs": [
    {
     "ename": "ValueError",
     "evalue": "math domain error",
     "output_type": "error",
     "traceback": [
      "\u001b[1;31m---------------------------------------------------------------------------\u001b[0m",
      "\u001b[1;31mValueError\u001b[0m                                Traceback (most recent call last)",
      "\u001b[1;32m<ipython-input-2-e4904cb9e1b9>\u001b[0m in \u001b[0;36m<module>\u001b[1;34m\u001b[0m\n\u001b[0;32m      6\u001b[0m     \u001b[1;32mreturn\u001b[0m\u001b[1;33m\u001b[0m\u001b[1;33m\u001b[0m\u001b[0m\n\u001b[0;32m      7\u001b[0m \u001b[1;33m\u001b[0m\u001b[0m\n\u001b[1;32m----> 8\u001b[1;33m \u001b[0mcuadratic\u001b[0m\u001b[1;33m(\u001b[0m\u001b[1;36m5\u001b[0m\u001b[1;33m,\u001b[0m\u001b[1;36m6\u001b[0m\u001b[1;33m,\u001b[0m\u001b[1;36m1\u001b[0m\u001b[1;33m)\u001b[0m\u001b[1;33m\u001b[0m\u001b[1;33m\u001b[0m\u001b[0m\n\u001b[0m",
      "\u001b[1;32m<ipython-input-2-e4904cb9e1b9>\u001b[0m in \u001b[0;36mcuadratic\u001b[1;34m(a, b, c)\u001b[0m\n\u001b[0;32m      3\u001b[0m \u001b[1;32mdef\u001b[0m \u001b[0mcuadratic\u001b[0m\u001b[1;33m(\u001b[0m\u001b[0ma\u001b[0m\u001b[1;33m,\u001b[0m\u001b[0mb\u001b[0m\u001b[1;33m,\u001b[0m\u001b[0mc\u001b[0m\u001b[1;33m)\u001b[0m\u001b[1;33m:\u001b[0m\u001b[1;33m\u001b[0m\u001b[1;33m\u001b[0m\u001b[0m\n\u001b[0;32m      4\u001b[0m \u001b[1;33m\u001b[0m\u001b[0m\n\u001b[1;32m----> 5\u001b[1;33m     \u001b[0mforumula_2\u001b[0m \u001b[1;33m=\u001b[0m \u001b[1;33m-\u001b[0m \u001b[0mb\u001b[0m \u001b[1;33m+\u001b[0m \u001b[0mmath\u001b[0m\u001b[1;33m.\u001b[0m\u001b[0msqrt\u001b[0m\u001b[1;33m(\u001b[0m\u001b[0mb\u001b[0m \u001b[1;33m-\u001b[0m \u001b[1;36m4\u001b[0m\u001b[1;33m*\u001b[0m\u001b[0ma\u001b[0m\u001b[1;33m*\u001b[0m\u001b[0mc\u001b[0m\u001b[1;33m)\u001b[0m\u001b[1;33m\u001b[0m\u001b[1;33m\u001b[0m\u001b[0m\n\u001b[0m\u001b[0;32m      6\u001b[0m     \u001b[1;32mreturn\u001b[0m\u001b[1;33m\u001b[0m\u001b[1;33m\u001b[0m\u001b[0m\n\u001b[0;32m      7\u001b[0m \u001b[1;33m\u001b[0m\u001b[0m\n",
      "\u001b[1;31mValueError\u001b[0m: math domain error"
     ]
    }
   ],
   "source": [
    "import math\n",
    "\n",
    "def cuadratic(a,b,c):\n",
    "      \n",
    "    forumula_2 = - b + math.sqrt(b - 4*a*c)\n",
    "    return\n",
    "\n",
    "cuadratic(5,6,1)\n"
   ]
  },
  {
   "cell_type": "code",
   "execution_count": 3,
   "metadata": {},
   "outputs": [
    {
     "ename": "ValueError",
     "evalue": "math domain error",
     "output_type": "error",
     "traceback": [
      "\u001b[1;31m---------------------------------------------------------------------------\u001b[0m",
      "\u001b[1;31mValueError\u001b[0m                                Traceback (most recent call last)",
      "\u001b[1;32m<ipython-input-3-508b601f7010>\u001b[0m in \u001b[0;36m<module>\u001b[1;34m\u001b[0m\n\u001b[0;32m      6\u001b[0m     \u001b[1;32mreturn\u001b[0m\u001b[1;33m\u001b[0m\u001b[1;33m\u001b[0m\u001b[0m\n\u001b[0;32m      7\u001b[0m \u001b[1;33m\u001b[0m\u001b[0m\n\u001b[1;32m----> 8\u001b[1;33m \u001b[0mcuadratic\u001b[0m\u001b[1;33m(\u001b[0m\u001b[1;36m5\u001b[0m\u001b[1;33m,\u001b[0m\u001b[1;36m6\u001b[0m\u001b[1;33m,\u001b[0m\u001b[1;36m1\u001b[0m\u001b[1;33m)\u001b[0m\u001b[1;33m\u001b[0m\u001b[1;33m\u001b[0m\u001b[0m\n\u001b[0m",
      "\u001b[1;32m<ipython-input-3-508b601f7010>\u001b[0m in \u001b[0;36mcuadratic\u001b[1;34m(a, b, c)\u001b[0m\n\u001b[0;32m      3\u001b[0m \u001b[1;32mdef\u001b[0m \u001b[0mcuadratic\u001b[0m\u001b[1;33m(\u001b[0m\u001b[0ma\u001b[0m\u001b[1;33m,\u001b[0m\u001b[0mb\u001b[0m\u001b[1;33m,\u001b[0m\u001b[0mc\u001b[0m\u001b[1;33m)\u001b[0m\u001b[1;33m:\u001b[0m\u001b[1;33m\u001b[0m\u001b[1;33m\u001b[0m\u001b[0m\n\u001b[0;32m      4\u001b[0m \u001b[1;33m\u001b[0m\u001b[0m\n\u001b[1;32m----> 5\u001b[1;33m     \u001b[0mforumula_2\u001b[0m \u001b[1;33m=\u001b[0m \u001b[1;33m-\u001b[0m\u001b[0mb\u001b[0m \u001b[1;33m+\u001b[0m \u001b[0mmath\u001b[0m\u001b[1;33m.\u001b[0m\u001b[0msqrt\u001b[0m\u001b[1;33m(\u001b[0m\u001b[0mb\u001b[0m \u001b[1;33m-\u001b[0m \u001b[1;36m4\u001b[0m\u001b[1;33m*\u001b[0m\u001b[0ma\u001b[0m\u001b[1;33m*\u001b[0m\u001b[0mc\u001b[0m\u001b[1;33m)\u001b[0m\u001b[1;33m\u001b[0m\u001b[1;33m\u001b[0m\u001b[0m\n\u001b[0m\u001b[0;32m      6\u001b[0m     \u001b[1;32mreturn\u001b[0m\u001b[1;33m\u001b[0m\u001b[1;33m\u001b[0m\u001b[0m\n\u001b[0;32m      7\u001b[0m \u001b[1;33m\u001b[0m\u001b[0m\n",
      "\u001b[1;31mValueError\u001b[0m: math domain error"
     ]
    }
   ],
   "source": [
    "import math\n",
    "\n",
    "def cuadratic(a,b,c):\n",
    "      \n",
    "    forumula_2 = -b + math.sqrt(b - 4*a*c)\n",
    "    return\n",
    "\n",
    "cuadratic(5,6,1)\n"
   ]
  },
  {
   "cell_type": "code",
   "execution_count": 4,
   "metadata": {},
   "outputs": [
    {
     "ename": "ValueError",
     "evalue": "math domain error",
     "output_type": "error",
     "traceback": [
      "\u001b[1;31m---------------------------------------------------------------------------\u001b[0m",
      "\u001b[1;31mValueError\u001b[0m                                Traceback (most recent call last)",
      "\u001b[1;32m<ipython-input-4-57b114f265a4>\u001b[0m in \u001b[0;36m<module>\u001b[1;34m\u001b[0m\n\u001b[0;32m      6\u001b[0m     \u001b[1;32mreturn\u001b[0m\u001b[1;33m\u001b[0m\u001b[1;33m\u001b[0m\u001b[0m\n\u001b[0;32m      7\u001b[0m \u001b[1;33m\u001b[0m\u001b[0m\n\u001b[1;32m----> 8\u001b[1;33m \u001b[0mcuadratic\u001b[0m\u001b[1;33m(\u001b[0m\u001b[1;36m5\u001b[0m\u001b[1;33m,\u001b[0m\u001b[1;36m6\u001b[0m\u001b[1;33m,\u001b[0m\u001b[1;36m10\u001b[0m\u001b[1;33m)\u001b[0m\u001b[1;33m\u001b[0m\u001b[1;33m\u001b[0m\u001b[0m\n\u001b[0m",
      "\u001b[1;32m<ipython-input-4-57b114f265a4>\u001b[0m in \u001b[0;36mcuadratic\u001b[1;34m(a, b, c)\u001b[0m\n\u001b[0;32m      3\u001b[0m \u001b[1;32mdef\u001b[0m \u001b[0mcuadratic\u001b[0m\u001b[1;33m(\u001b[0m\u001b[0ma\u001b[0m\u001b[1;33m,\u001b[0m\u001b[0mb\u001b[0m\u001b[1;33m,\u001b[0m\u001b[0mc\u001b[0m\u001b[1;33m)\u001b[0m\u001b[1;33m:\u001b[0m\u001b[1;33m\u001b[0m\u001b[1;33m\u001b[0m\u001b[0m\n\u001b[0;32m      4\u001b[0m \u001b[1;33m\u001b[0m\u001b[0m\n\u001b[1;32m----> 5\u001b[1;33m     \u001b[0mforumula_2\u001b[0m \u001b[1;33m=\u001b[0m \u001b[1;33m-\u001b[0m\u001b[0mb\u001b[0m \u001b[1;33m+\u001b[0m \u001b[0mmath\u001b[0m\u001b[1;33m.\u001b[0m\u001b[0msqrt\u001b[0m\u001b[1;33m(\u001b[0m\u001b[0mb\u001b[0m \u001b[1;33m-\u001b[0m \u001b[1;36m4\u001b[0m\u001b[1;33m*\u001b[0m\u001b[0ma\u001b[0m\u001b[1;33m*\u001b[0m\u001b[0mc\u001b[0m\u001b[1;33m)\u001b[0m\u001b[1;33m\u001b[0m\u001b[1;33m\u001b[0m\u001b[0m\n\u001b[0m\u001b[0;32m      6\u001b[0m     \u001b[1;32mreturn\u001b[0m\u001b[1;33m\u001b[0m\u001b[1;33m\u001b[0m\u001b[0m\n\u001b[0;32m      7\u001b[0m \u001b[1;33m\u001b[0m\u001b[0m\n",
      "\u001b[1;31mValueError\u001b[0m: math domain error"
     ]
    }
   ],
   "source": [
    "import math\n",
    "\n",
    "def cuadratic(a,b,c):\n",
    "      \n",
    "    forumula_2 = -b + math.sqrt(b - 4*a*c)\n",
    "    return\n",
    "\n",
    "cuadratic(5,6,10)\n"
   ]
  },
  {
   "cell_type": "code",
   "execution_count": 5,
   "metadata": {},
   "outputs": [],
   "source": [
    "import math\n",
    "\n",
    "def cuadratic(a,b,c):\n",
    "      \n",
    "    forumula_2 = -b + math.sqrt(b - 4*a*c)\n",
    "    return\n",
    "\n",
    "cuadratic(5,60,1)\n"
   ]
  },
  {
   "cell_type": "code",
   "execution_count": 6,
   "metadata": {},
   "outputs": [
    {
     "data": {
      "text/plain": [
       "-53.675444679663244"
      ]
     },
     "execution_count": 6,
     "metadata": {},
     "output_type": "execute_result"
    }
   ],
   "source": [
    "import math\n",
    "\n",
    "def cuadratic(a,b,c):\n",
    "      \n",
    "    forumula_2 = -b + math.sqrt(b - 4*a*c)\n",
    "    return forumula_2\n",
    "\n",
    "cuadratic(5,60,1)\n"
   ]
  },
  {
   "cell_type": "code",
   "execution_count": 7,
   "metadata": {},
   "outputs": [
    {
     "data": {
      "text/plain": [
       "(-134.18861169915812, -165.81138830084188)"
      ]
     },
     "execution_count": 7,
     "metadata": {},
     "output_type": "execute_result"
    }
   ],
   "source": [
    "import math\n",
    "\n",
    "def cuadratic(a,b,c):\n",
    "      \n",
    "\n",
    "    part_1 = -b - math.sqrt(b - 4*a*c)\n",
    "    part_2 = -b + math.sqrt(b - 4*a*c)\n",
    "    negative_x = part_1 / 2*a\n",
    "    positive_x = part_2 / 2*a\n",
    "    return positive_x,negative_x#si no regreso nada no muestra nada\n",
    "\n",
    "cuadratic(5,60,1)\n"
   ]
  },
  {
   "cell_type": "code",
   "execution_count": 8,
   "metadata": {},
   "outputs": [
    {
     "ename": "ValueError",
     "evalue": "math domain error",
     "output_type": "error",
     "traceback": [
      "\u001b[1;31m---------------------------------------------------------------------------\u001b[0m",
      "\u001b[1;31mValueError\u001b[0m                                Traceback (most recent call last)",
      "\u001b[1;32m<ipython-input-8-6b615d7b7f1a>\u001b[0m in \u001b[0;36m<module>\u001b[1;34m\u001b[0m\n\u001b[0;32m     10\u001b[0m     \u001b[1;32mreturn\u001b[0m \u001b[0mpositive_x\u001b[0m\u001b[1;33m,\u001b[0m\u001b[0mnegative_x\u001b[0m\u001b[1;31m#si no regreso nada no muestra nada\u001b[0m\u001b[1;33m\u001b[0m\u001b[1;33m\u001b[0m\u001b[0m\n\u001b[0;32m     11\u001b[0m \u001b[1;33m\u001b[0m\u001b[0m\n\u001b[1;32m---> 12\u001b[1;33m \u001b[0mcuadratic\u001b[0m\u001b[1;33m(\u001b[0m\u001b[1;36m5\u001b[0m\u001b[1;33m,\u001b[0m\u001b[1;36m6\u001b[0m\u001b[1;33m,\u001b[0m\u001b[1;36m1\u001b[0m\u001b[1;33m)\u001b[0m\u001b[1;33m\u001b[0m\u001b[1;33m\u001b[0m\u001b[0m\n\u001b[0m",
      "\u001b[1;32m<ipython-input-8-6b615d7b7f1a>\u001b[0m in \u001b[0;36mcuadratic\u001b[1;34m(a, b, c)\u001b[0m\n\u001b[0;32m      4\u001b[0m \u001b[1;33m\u001b[0m\u001b[0m\n\u001b[0;32m      5\u001b[0m \u001b[1;33m\u001b[0m\u001b[0m\n\u001b[1;32m----> 6\u001b[1;33m     \u001b[0mpart_1\u001b[0m \u001b[1;33m=\u001b[0m \u001b[1;33m-\u001b[0m\u001b[0mb\u001b[0m \u001b[1;33m-\u001b[0m \u001b[0mmath\u001b[0m\u001b[1;33m.\u001b[0m\u001b[0msqrt\u001b[0m\u001b[1;33m(\u001b[0m\u001b[0mb\u001b[0m \u001b[1;33m-\u001b[0m \u001b[1;36m4\u001b[0m\u001b[1;33m*\u001b[0m\u001b[0ma\u001b[0m\u001b[1;33m*\u001b[0m\u001b[0mc\u001b[0m\u001b[1;33m)\u001b[0m\u001b[1;33m\u001b[0m\u001b[1;33m\u001b[0m\u001b[0m\n\u001b[0m\u001b[0;32m      7\u001b[0m     \u001b[0mpart_2\u001b[0m \u001b[1;33m=\u001b[0m \u001b[1;33m-\u001b[0m\u001b[0mb\u001b[0m \u001b[1;33m+\u001b[0m \u001b[0mmath\u001b[0m\u001b[1;33m.\u001b[0m\u001b[0msqrt\u001b[0m\u001b[1;33m(\u001b[0m\u001b[0mb\u001b[0m \u001b[1;33m-\u001b[0m \u001b[1;36m4\u001b[0m\u001b[1;33m*\u001b[0m\u001b[0ma\u001b[0m\u001b[1;33m*\u001b[0m\u001b[0mc\u001b[0m\u001b[1;33m)\u001b[0m\u001b[1;33m\u001b[0m\u001b[1;33m\u001b[0m\u001b[0m\n\u001b[0;32m      8\u001b[0m     \u001b[0mnegative_x\u001b[0m \u001b[1;33m=\u001b[0m \u001b[0mpart_1\u001b[0m \u001b[1;33m/\u001b[0m \u001b[1;36m2\u001b[0m\u001b[1;33m*\u001b[0m\u001b[0ma\u001b[0m\u001b[1;33m\u001b[0m\u001b[1;33m\u001b[0m\u001b[0m\n",
      "\u001b[1;31mValueError\u001b[0m: math domain error"
     ]
    }
   ],
   "source": [
    "import math\n",
    "\n",
    "def cuadratic(a,b,c):\n",
    "      \n",
    "\n",
    "    part_1 = -b - math.sqrt(b - 4*a*c)\n",
    "    part_2 = -b + math.sqrt(b - 4*a*c)\n",
    "    negative_x = part_1 / 2*a\n",
    "    positive_x = part_2 / 2*a\n",
    "    return positive_x,negative_x#si no regreso nada no muestra nada\n",
    "\n",
    "cuadratic(5,6,1)\n"
   ]
  },
  {
   "cell_type": "code",
   "execution_count": 9,
   "metadata": {},
   "outputs": [
    {
     "ename": "NameError",
     "evalue": "name 'sqrt' is not defined",
     "output_type": "error",
     "traceback": [
      "\u001b[1;31m---------------------------------------------------------------------------\u001b[0m",
      "\u001b[1;31mNameError\u001b[0m                                 Traceback (most recent call last)",
      "\u001b[1;32m<ipython-input-9-c51e957a8ae1>\u001b[0m in \u001b[0;36m<module>\u001b[1;34m\u001b[0m\n\u001b[0;32m     10\u001b[0m     \u001b[1;32mreturn\u001b[0m \u001b[0mpositive_x\u001b[0m\u001b[1;33m,\u001b[0m\u001b[0mnegative_x\u001b[0m\u001b[1;31m#si no regreso nada no muestra nada\u001b[0m\u001b[1;33m\u001b[0m\u001b[1;33m\u001b[0m\u001b[0m\n\u001b[0;32m     11\u001b[0m \u001b[1;33m\u001b[0m\u001b[0m\n\u001b[1;32m---> 12\u001b[1;33m \u001b[0mcuadratic\u001b[0m\u001b[1;33m(\u001b[0m\u001b[1;36m5\u001b[0m\u001b[1;33m,\u001b[0m\u001b[1;36m6\u001b[0m\u001b[1;33m,\u001b[0m\u001b[1;36m1\u001b[0m\u001b[1;33m)\u001b[0m\u001b[1;33m\u001b[0m\u001b[1;33m\u001b[0m\u001b[0m\n\u001b[0m",
      "\u001b[1;32m<ipython-input-9-c51e957a8ae1>\u001b[0m in \u001b[0;36mcuadratic\u001b[1;34m(a, b, c)\u001b[0m\n\u001b[0;32m      4\u001b[0m \u001b[1;33m\u001b[0m\u001b[0m\n\u001b[0;32m      5\u001b[0m \u001b[1;33m\u001b[0m\u001b[0m\n\u001b[1;32m----> 6\u001b[1;33m     \u001b[0mpart_1\u001b[0m \u001b[1;33m=\u001b[0m \u001b[1;33m-\u001b[0m\u001b[0mb\u001b[0m \u001b[1;33m-\u001b[0m \u001b[0msqrt\u001b[0m\u001b[1;33m(\u001b[0m\u001b[0mb\u001b[0m \u001b[1;33m-\u001b[0m \u001b[1;36m4\u001b[0m\u001b[1;33m*\u001b[0m\u001b[0ma\u001b[0m\u001b[1;33m*\u001b[0m\u001b[0mc\u001b[0m\u001b[1;33m)\u001b[0m\u001b[1;33m\u001b[0m\u001b[1;33m\u001b[0m\u001b[0m\n\u001b[0m\u001b[0;32m      7\u001b[0m     \u001b[0mpart_2\u001b[0m \u001b[1;33m=\u001b[0m \u001b[1;33m-\u001b[0m\u001b[0mb\u001b[0m \u001b[1;33m+\u001b[0m \u001b[0msqrt\u001b[0m\u001b[1;33m(\u001b[0m\u001b[0mb\u001b[0m \u001b[1;33m-\u001b[0m \u001b[1;36m4\u001b[0m\u001b[1;33m*\u001b[0m\u001b[0ma\u001b[0m\u001b[1;33m*\u001b[0m\u001b[0mc\u001b[0m\u001b[1;33m)\u001b[0m\u001b[1;33m\u001b[0m\u001b[1;33m\u001b[0m\u001b[0m\n\u001b[0;32m      8\u001b[0m     \u001b[0mnegative_x\u001b[0m \u001b[1;33m=\u001b[0m \u001b[0mpart_1\u001b[0m \u001b[1;33m/\u001b[0m \u001b[1;36m2\u001b[0m\u001b[1;33m*\u001b[0m\u001b[0ma\u001b[0m\u001b[1;33m\u001b[0m\u001b[1;33m\u001b[0m\u001b[0m\n",
      "\u001b[1;31mNameError\u001b[0m: name 'sqrt' is not defined"
     ]
    }
   ],
   "source": [
    "\n",
    "\n",
    "def cuadratic(a,b,c):\n",
    "      \n",
    "\n",
    "    part_1 = -b - sqrt(b - 4*a*c)\n",
    "    part_2 = -b + sqrt(b - 4*a*c)\n",
    "    negative_x = part_1 / 2*a\n",
    "    positive_x = part_2 / 2*a\n",
    "    return positive_x,negative_x#si no regreso nada no muestra nada\n",
    "\n",
    "cuadratic(5,6,1)"
   ]
  },
  {
   "cell_type": "code",
   "execution_count": 10,
   "metadata": {},
   "outputs": [
    {
     "data": {
      "text/plain": [
       "((-15+9.354143466934854j), (-15-9.354143466934854j))"
      ]
     },
     "execution_count": 10,
     "metadata": {},
     "output_type": "execute_result"
    }
   ],
   "source": [
    "#import cmath to get complex numbers / imaginary\n",
    "import cmath\n",
    "\n",
    "def cuadratic(a,b,c):\n",
    "      \n",
    "\n",
    "    part_1 = -b - cmath.sqrt(b - 4*a*c)\n",
    "    part_2 = -b + cmath.sqrt(b - 4*a*c)\n",
    "    negative_x = part_1 / 2*a\n",
    "    positive_x = part_2 / 2*a\n",
    "    return positive_x,negative_x#si no regreso nada no muestra nada\n",
    "\n",
    "cuadratic(5,6,1)\n"
   ]
  },
  {
   "cell_type": "code",
   "execution_count": 11,
   "metadata": {},
   "outputs": [
    {
     "data": {
      "text/plain": [
       "((-5+0j), (-25+0j))"
      ]
     },
     "execution_count": 11,
     "metadata": {},
     "output_type": "execute_result"
    }
   ],
   "source": [
    "#import cmath to get complex numbers / imaginary\n",
    "import cmath\n",
    "\n",
    "def cuadratic(a,b,c):\n",
    "      \n",
    "\n",
    "    part_1 = -b - cmath.sqrt(b**2 - 4*a*c)\n",
    "    part_2 = -b + cmath.sqrt(b**2 - 4*a*c)\n",
    "    negative_x = part_1 / 2*a\n",
    "    positive_x = part_2 / 2*a\n",
    "    return positive_x,negative_x#si no regreso nada no muestra nada\n",
    "\n",
    "cuadratic(5,6,1)\n"
   ]
  },
  {
   "cell_type": "code",
   "execution_count": 12,
   "metadata": {},
   "outputs": [
    {
     "data": {
      "text/plain": [
       "((3+0j), (-2+0j))"
      ]
     },
     "execution_count": 12,
     "metadata": {},
     "output_type": "execute_result"
    }
   ],
   "source": [
    "#import cmath to get complex numbers / imaginary\n",
    "import cmath\n",
    "\n",
    "def cuadratic(a,b,c):\n",
    "      \n",
    "\n",
    "    part_1 = -b - cmath.sqrt(b**2 - 4*a*c)\n",
    "    part_2 = -b + cmath.sqrt(b**2 - 4*a*c)\n",
    "    negative_x = part_1 / 2*a\n",
    "    positive_x = part_2 / 2*a\n",
    "    return positive_x,negative_x#si no regreso nada no muestra nada\n",
    "\n",
    "cuadratic(1,-1,-6)\n"
   ]
  },
  {
   "cell_type": "code",
   "execution_count": 13,
   "metadata": {},
   "outputs": [
    {
     "data": {
      "text/plain": [
       "((1+2j), (1-2j))"
      ]
     },
     "execution_count": 13,
     "metadata": {},
     "output_type": "execute_result"
    }
   ],
   "source": [
    "#import cmath to get complex numbers / imaginary\n",
    "import cmath\n",
    "\n",
    "def cuadratic(a,b,c):\n",
    "      \n",
    "\n",
    "    part_1 = -b - cmath.sqrt(b**2 - 4*a*c)\n",
    "    part_2 = -b + cmath.sqrt(b**2 - 4*a*c)\n",
    "    negative_x = part_1 / 2*a\n",
    "    positive_x = part_2 / 2*a\n",
    "    return positive_x,negative_x#si no regreso nada no muestra nada\n",
    "\n",
    "cuadratic(1,-1,-6)\n",
    "cuadratic(1,-2,5)\n"
   ]
  },
  {
   "cell_type": "code",
   "execution_count": 14,
   "metadata": {},
   "outputs": [
    {
     "data": {
      "text/plain": [
       "((-15+5j), (-15-5j))"
      ]
     },
     "execution_count": 14,
     "metadata": {},
     "output_type": "execute_result"
    }
   ],
   "source": [
    "#import cmath to get complex numbers / imaginary\n",
    "import cmath\n",
    "\n",
    "def cuadratic(a,b,c):\n",
    "      \n",
    "\n",
    "    part_1 = -b - cmath.sqrt(b**2 - 4*a*c)\n",
    "    part_2 = -b + cmath.sqrt(b**2 - 4*a*c)\n",
    "    negative_x = part_1 / 2*a\n",
    "    positive_x = part_2 / 2*a\n",
    "    return positive_x,negative_x#si no regreso nada no muestra nada\n",
    "\n",
    "cuadratic(1,-1,-6)\n",
    "cuadratic(1,-2,5)\n",
    "cuadratic(5,6,2)\n"
   ]
  },
  {
   "cell_type": "code",
   "execution_count": 15,
   "metadata": {},
   "outputs": [
    {
     "ename": "IndentationError",
     "evalue": "unexpected indent (<ipython-input-15-6251c43f4f8a>, line 2)",
     "output_type": "error",
     "traceback": [
      "\u001b[1;36m  File \u001b[1;32m\"<ipython-input-15-6251c43f4f8a>\"\u001b[1;36m, line \u001b[1;32m2\u001b[0m\n\u001b[1;33m    from numpy.lib.scimath import *\u001b[0m\n\u001b[1;37m    ^\u001b[0m\n\u001b[1;31mIndentationError\u001b[0m\u001b[1;31m:\u001b[0m unexpected indent\n"
     ]
    }
   ],
   "source": [
    "#import cmath to get complex numbers / imaginary\n",
    " from numpy.lib.scimath import *\n",
    "\n",
    "def cuadratic(a,b,c):\n",
    "      \n",
    "\n",
    "    part_1 = -b - sqrt(b**2 - 4*a*c)\n",
    "    part_2 = -b + sqrt(b**2 - 4*a*c)\n",
    "    negative_x = part_1 / 2*a\n",
    "    positive_x = part_2 / 2*a\n",
    "    return positive_x,negative_x#si no regreso nada no muestra nada\n",
    "\n",
    "cuadratic(1,-1,-6)\n",
    "cuadratic(1,-2,5)\n",
    "cuadratic(5,6,2)\n"
   ]
  },
  {
   "cell_type": "code",
   "execution_count": 16,
   "metadata": {},
   "outputs": [
    {
     "data": {
      "text/plain": [
       "((-15+5j), (-15-5j))"
      ]
     },
     "execution_count": 16,
     "metadata": {},
     "output_type": "execute_result"
    }
   ],
   "source": [
    "#import cmath to get complex numbers / imaginary\n",
    "from numpy.lib.scimath import *\n",
    "\n",
    "def cuadratic(a,b,c):\n",
    "      \n",
    "\n",
    "    part_1 = -b - sqrt(b**2 - 4*a*c)\n",
    "    part_2 = -b + sqrt(b**2 - 4*a*c)\n",
    "    negative_x = part_1 / 2*a\n",
    "    positive_x = part_2 / 2*a\n",
    "    return positive_x,negative_x#si no regreso nada no muestra nada\n",
    "\n",
    "cuadratic(1,-1,-6)\n",
    "cuadratic(1,-2,5)\n",
    "cuadratic(5,6,2)\n"
   ]
  },
  {
   "cell_type": "code",
   "execution_count": 17,
   "metadata": {},
   "outputs": [
    {
     "data": {
      "text/plain": [
       "((-15+5j), (-15-5j))"
      ]
     },
     "execution_count": 17,
     "metadata": {},
     "output_type": "execute_result"
    }
   ],
   "source": [
    "#import cmath to get complex numbers / imaginary\n",
    "from scipy import *\n",
    "\n",
    "def cuadratic(a,b,c):\n",
    "      \n",
    "\n",
    "    part_1 = -b - sqrt(b**2 - 4*a*c)\n",
    "    part_2 = -b + sqrt(b**2 - 4*a*c)\n",
    "    negative_x = part_1 / 2*a\n",
    "    positive_x = part_2 / 2*a\n",
    "    return positive_x,negative_x#si no regreso nada no muestra nada\n",
    "\n",
    "cuadratic(1,-1,-6)\n",
    "cuadratic(1,-2,5)\n",
    "cuadratic(5,6,2)\n"
   ]
  },
  {
   "cell_type": "code",
   "execution_count": 18,
   "metadata": {},
   "outputs": [
    {
     "ename": "ModuleNotFoundError",
     "evalue": "No module named 'scitools'",
     "output_type": "error",
     "traceback": [
      "\u001b[1;31m---------------------------------------------------------------------------\u001b[0m",
      "\u001b[1;31mModuleNotFoundError\u001b[0m                       Traceback (most recent call last)",
      "\u001b[1;32m<ipython-input-18-4bd4833c413f>\u001b[0m in \u001b[0;36m<module>\u001b[1;34m\u001b[0m\n\u001b[0;32m      2\u001b[0m \u001b[1;32mfrom\u001b[0m \u001b[0mnumpy\u001b[0m\u001b[1;33m.\u001b[0m\u001b[0mlib\u001b[0m\u001b[1;33m.\u001b[0m\u001b[0mscimath\u001b[0m \u001b[1;32mimport\u001b[0m \u001b[1;33m*\u001b[0m\u001b[1;33m\u001b[0m\u001b[1;33m\u001b[0m\u001b[0m\n\u001b[0;32m      3\u001b[0m \u001b[1;32mfrom\u001b[0m \u001b[0mscipy\u001b[0m \u001b[1;32mimport\u001b[0m \u001b[1;33m*\u001b[0m\u001b[1;33m\u001b[0m\u001b[1;33m\u001b[0m\u001b[0m\n\u001b[1;32m----> 4\u001b[1;33m \u001b[1;32mfrom\u001b[0m \u001b[0mscitools\u001b[0m\u001b[1;33m.\u001b[0m\u001b[0mstd\u001b[0m \u001b[1;32mimport\u001b[0m \u001b[1;33m*\u001b[0m\u001b[1;33m\u001b[0m\u001b[1;33m\u001b[0m\u001b[0m\n\u001b[0m\u001b[0;32m      5\u001b[0m \u001b[1;33m\u001b[0m\u001b[0m\n\u001b[0;32m      6\u001b[0m \u001b[1;33m\u001b[0m\u001b[0m\n",
      "\u001b[1;31mModuleNotFoundError\u001b[0m: No module named 'scitools'"
     ]
    }
   ],
   "source": [
    "#import cmath to get complex numbers / imaginary\n",
    "from numpy.lib.scimath import *\n",
    "from scipy import *\n",
    "from scitools.std import *\n",
    "\n",
    "\n",
    "def cuadratic(a,b,c):\n",
    "      \n",
    "\n",
    "    part_1 = -b - sqrt(b**2 - 4*a*c)\n",
    "    part_2 = -b + sqrt(b**2 - 4*a*c)\n",
    "    negative_x = part_1 / 2*a\n",
    "    positive_x = part_2 / 2*a\n",
    "    return positive_x,negative_x#si no regreso nada no muestra nada\n",
    "\n",
    "cuadratic(1,-1,-6)\n",
    "cuadratic(1,-2,5)\n",
    "cuadratic(5,6,2)\n"
   ]
  },
  {
   "cell_type": "code",
   "execution_count": 19,
   "metadata": {},
   "outputs": [
    {
     "ename": "ModuleNotFoundError",
     "evalue": "No module named 'scitools'",
     "output_type": "error",
     "traceback": [
      "\u001b[1;31m---------------------------------------------------------------------------\u001b[0m",
      "\u001b[1;31mModuleNotFoundError\u001b[0m                       Traceback (most recent call last)",
      "\u001b[1;32m<ipython-input-19-ce363d77ec6f>\u001b[0m in \u001b[0;36m<module>\u001b[1;34m\u001b[0m\n\u001b[0;32m      2\u001b[0m \u001b[1;32mfrom\u001b[0m \u001b[0mnumpy\u001b[0m\u001b[1;33m.\u001b[0m\u001b[0mlib\u001b[0m\u001b[1;33m.\u001b[0m\u001b[0mscimath\u001b[0m \u001b[1;32mimport\u001b[0m \u001b[1;33m*\u001b[0m\u001b[1;33m\u001b[0m\u001b[1;33m\u001b[0m\u001b[0m\n\u001b[0;32m      3\u001b[0m \u001b[1;32mfrom\u001b[0m \u001b[0mscipy\u001b[0m \u001b[1;32mimport\u001b[0m \u001b[1;33m*\u001b[0m\u001b[1;33m\u001b[0m\u001b[1;33m\u001b[0m\u001b[0m\n\u001b[1;32m----> 4\u001b[1;33m \u001b[1;32mfrom\u001b[0m \u001b[0mscitools\u001b[0m\u001b[1;33m.\u001b[0m\u001b[0mstd\u001b[0m \u001b[1;32mimport\u001b[0m \u001b[1;33m*\u001b[0m\u001b[1;33m\u001b[0m\u001b[1;33m\u001b[0m\u001b[0m\n\u001b[0m\u001b[0;32m      5\u001b[0m \u001b[1;32mfrom\u001b[0m \u001b[0mcmath\u001b[0m \u001b[1;32mimport\u001b[0m \u001b[0msqrt\u001b[0m\u001b[1;33m\u001b[0m\u001b[1;33m\u001b[0m\u001b[0m\n\u001b[0;32m      6\u001b[0m \u001b[1;33m\u001b[0m\u001b[0m\n",
      "\u001b[1;31mModuleNotFoundError\u001b[0m: No module named 'scitools'"
     ]
    }
   ],
   "source": [
    "#import cmath to get complex numbers / imaginary\n",
    "from numpy.lib.scimath import *\n",
    "from scipy import *\n",
    "from scitools.std import *\n",
    "from cmath import sqrt\n",
    "\n",
    "\n",
    "def cuadratic(a,b,c):\n",
    "      \n",
    "\n",
    "    part_1 = -b - sqrt(b**2 - 4*a*c)\n",
    "    part_2 = -b + sqrt(b**2 - 4*a*c)\n",
    "    negative_x = part_1 / 2*a\n",
    "    positive_x = part_2 / 2*a\n",
    "    return positive_x,negative_x#si no regreso nada no muestra nada\n",
    "\n",
    "cuadratic(1,-1,-6)\n",
    "cuadratic(1,-2,5)\n",
    "cuadratic(5,6,2)\n"
   ]
  },
  {
   "cell_type": "code",
   "execution_count": 20,
   "metadata": {},
   "outputs": [
    {
     "data": {
      "text/plain": [
       "((-15+5j), (-15-5j))"
      ]
     },
     "execution_count": 20,
     "metadata": {},
     "output_type": "execute_result"
    }
   ],
   "source": [
    "#import cmath to get complex numbers / imaginary\n",
    "from numpy.lib.scimath import *\n",
    "from scipy import *\n",
    "from cmath import sqrt\n",
    "\n",
    "\n",
    "def cuadratic(a,b,c):\n",
    "      \n",
    "\n",
    "    part_1 = -b - sqrt(b**2 - 4*a*c)\n",
    "    part_2 = -b + sqrt(b**2 - 4*a*c)\n",
    "    negative_x = part_1 / 2*a\n",
    "    positive_x = part_2 / 2*a\n",
    "    return positive_x,negative_x#si no regreso nada no muestra nada\n",
    "\n",
    "cuadratic(1,-1,-6)\n",
    "cuadratic(1,-2,5)\n",
    "cuadratic(5,6,2)\n"
   ]
  },
  {
   "cell_type": "code",
   "execution_count": 21,
   "metadata": {},
   "outputs": [
    {
     "data": {
      "text/plain": [
       "((-15+5j), (-15-5j))"
      ]
     },
     "execution_count": 21,
     "metadata": {},
     "output_type": "execute_result"
    }
   ],
   "source": [
    "#import cmath to get complex numbers / imaginary\n",
    "from numpy.lib.scimath import *\n",
    "\n",
    "\n",
    "def cuadratic(a,b,c):\n",
    "      \n",
    "\n",
    "    part_1 = -b - sqrt(b**2 - 4*a*c)\n",
    "    part_2 = -b + sqrt(b**2 - 4*a*c)\n",
    "    negative_x = part_1 / 2*a\n",
    "    positive_x = part_2 / 2*a\n",
    "    return positive_x,negative_x#si no regreso nada no muestra nada\n",
    "\n",
    "#cuadratic(1,-1,-6)\n",
    "#cuadratic(1,-2,5)\n",
    "cuadratic(5,6,2)\n"
   ]
  },
  {
   "cell_type": "code",
   "execution_count": 22,
   "metadata": {},
   "outputs": [
    {
     "data": {
      "text/plain": [
       "((-15+5j), (-15-5j))"
      ]
     },
     "execution_count": 22,
     "metadata": {},
     "output_type": "execute_result"
    }
   ],
   "source": [
    "#import cmath to get complex numbers / imaginary\n",
    "from numpy.lib.scimath import sqrt\n",
    "\n",
    "\n",
    "def cuadratic(a,b,c):\n",
    "      \n",
    "\n",
    "    part_1 = -b - sqrt(b**2 - 4*a*c)\n",
    "    part_2 = -b + sqrt(b**2 - 4*a*c)\n",
    "    negative_x = part_1 / 2*a\n",
    "    positive_x = part_2 / 2*a\n",
    "    return positive_x,negative_x#si no regreso nada no muestra nada\n",
    "\n",
    "#cuadratic(1,-1,-6)\n",
    "#cuadratic(1,-2,5)\n",
    "cuadratic(5,6,2)\n"
   ]
  },
  {
   "cell_type": "code",
   "execution_count": 23,
   "metadata": {},
   "outputs": [
    {
     "data": {
      "text/plain": [
       "((-15+5j), (-15-5j))"
      ]
     },
     "execution_count": 23,
     "metadata": {},
     "output_type": "execute_result"
    }
   ],
   "source": [
    "#import cmath to get complex numbers / imaginary\n",
    "from numpy.lib.scimath import sqrt\n",
    "\n",
    "\n",
    "def cuadratic(a,b,c):\n",
    "      \n",
    "\n",
    "    part_1 = -b - sqrt(b**2 - 4*a*c)\n",
    "    part_2 = -b + sqrt(b**2 - 4*a*c)\n",
    "    negative_x = part_1 / 2*a\n",
    "    positive_x = part_2 / 2*a\n",
    "    return positive_x,negative_x#si no regreso nada no muestra nada\n",
    "\n",
    "#cuadratic(1,-1,-6)\n",
    "#cuadratic(1,-2,5)\n",
    "cuadratic(5,6,2)\n"
   ]
  },
  {
   "cell_type": "code",
   "execution_count": 24,
   "metadata": {},
   "outputs": [],
   "source": [
    "a = 1; b = 2; c = 100 # polynomial coefficients\n",
    ">>> from numpy.lib.scimath import sqrt\n",
    ">>> r1 = (-b + sqrt(b**2 - 4*a*c))/(2*a)\n",
    ">>> r2 = (-b - sqrt(b**2 - 4*a*c))/(2*a)"
   ]
  },
  {
   "cell_type": "code",
   "execution_count": 25,
   "metadata": {},
   "outputs": [
    {
     "name": "stdout",
     "output_type": "stream",
     "text": [
      "(-1+9.9498743710662j)\n",
      "(-1-9.9498743710662j)\n"
     ]
    }
   ],
   "source": [
    "a = 1; b = 2; c = 100 # polynomial coefficients\n",
    "from numpy.lib.scimath import sqrt\n",
    "r1 = (-b + sqrt(b**2 - 4*a*c))/(2*a)\n",
    "r2 = (-b - sqrt(b**2 - 4*a*c))/(2*a)\n",
    "print(r1)\n",
    "print(r2)\n",
    "\n"
   ]
  },
  {
   "cell_type": "code",
   "execution_count": 26,
   "metadata": {},
   "outputs": [
    {
     "name": "stdout",
     "output_type": "stream",
     "text": [
      "-0.2\n",
      "-1.0\n"
     ]
    }
   ],
   "source": [
    "a = 5; b = 6; c = 1 # polynomial coefficients\n",
    "from numpy.lib.scimath import sqrt\n",
    "r1 = (-b + sqrt(b**2 - 4*a*c))/(2*a)\n",
    "r2 = (-b - sqrt(b**2 - 4*a*c))/(2*a)\n",
    "print(r1)\n",
    "print(r2)\n",
    "\n"
   ]
  },
  {
   "cell_type": "code",
   "execution_count": 27,
   "metadata": {},
   "outputs": [
    {
     "name": "stdout",
     "output_type": "stream",
     "text": [
      "-0.2\n",
      "-1.0\n"
     ]
    }
   ],
   "source": [
    "from numpy.lib.scimath import sqrt\n",
    "a = 5; b = 6; c = 1 # polynomial coefficients\n",
    "\n",
    "r1 = (-b + sqrt(b**2 - 4*a*c))/(2*a)\n",
    "r2 = (-b - sqrt(b**2 - 4*a*c))/(2*a)\n",
    "print(r1)\n",
    "print(r2)\n",
    "\n"
   ]
  },
  {
   "cell_type": "code",
   "execution_count": 28,
   "metadata": {},
   "outputs": [
    {
     "name": "stdout",
     "output_type": "stream",
     "text": [
      "-0.2\n",
      "-1.0\n"
     ]
    }
   ],
   "source": [
    "from numpy.lib.scimath import sqrt\n",
    "a = 5; b = 6; c = 1 # polynomial coefficients\n",
    "\n",
    "r1 = (-b + sqrt(b**2 - 4*a*c))/(2*a)\n",
    "r2 = (-b - sqrt(b**2 - 4*a*c))/(2*a)\n",
    "print(r1)\n",
    "print(r2)\n",
    "\n"
   ]
  },
  {
   "cell_type": "code",
   "execution_count": 29,
   "metadata": {},
   "outputs": [
    {
     "data": {
      "text/plain": [
       "((-15+5j), (-15-5j))"
      ]
     },
     "execution_count": 29,
     "metadata": {},
     "output_type": "execute_result"
    }
   ],
   "source": [
    "#import cmath to get complex numbers / imaginary\n",
    "from numpy.lib.scimath import sqrt\n",
    "\n",
    "\n",
    "def cuadratic(a,b,c):   \n",
    "\n",
    "    part_1 = -b - sqrt(b**2 - 4*a*c)\n",
    "    part_2 = -b + sqrt(b**2 - 4*a*c)\n",
    "    negative_x = part_1 / 2*a\n",
    "    positive_x = part_2 / 2*a\n",
    "    return positive_x,negative_x#si no regreso nada no muestra nada\n",
    "\n",
    "#cuadratic(1,-1,-6)\n",
    "#cuadratic(1,-2,5)\n",
    "cuadratic(5,6,2)\n"
   ]
  },
  {
   "cell_type": "code",
   "execution_count": 30,
   "metadata": {},
   "outputs": [
    {
     "data": {
      "text/plain": [
       "((-0.6000000000000001+0.2j), (-0.6000000000000001-0.2j))"
      ]
     },
     "execution_count": 30,
     "metadata": {},
     "output_type": "execute_result"
    }
   ],
   "source": [
    "#import cmath to get complex numbers / imaginary\n",
    "from numpy.lib.scimath import sqrt\n",
    "def cuadratica(a,b,c):   \n",
    "\n",
    "    r1 = (-b + sqrt(b**2 - 4*a*c))/(2*a)\n",
    "    r2 = (-b - sqrt(b**2 - 4*a*c))/(2*a)\n",
    "    return r1, r2#si no regreso nada no muestra nada\n",
    "\n",
    "#cuadratic(1,-1,-6)\n",
    "#cuadratic(1,-2,5)\n",
    "cuadratica(5,6,2)\n"
   ]
  },
  {
   "cell_type": "code",
   "execution_count": 31,
   "metadata": {},
   "outputs": [
    {
     "name": "stdout",
     "output_type": "stream",
     "text": [
      "-0.2\n",
      "-1.0\n"
     ]
    }
   ],
   "source": [
    "from numpy.lib.scimath import sqrt\n",
    "a = 5; b = 6; c = 1 # polynomial coefficients\n",
    "\n",
    "r1 = (-b + sqrt(b**2 - 4*a*c))/(2*a)\n",
    "r2 = (-b - sqrt(b**2 - 4*a*c))/(2*a)\n",
    "print(r1)\n",
    "print(r2)\n",
    "\n"
   ]
  },
  {
   "cell_type": "code",
   "execution_count": 32,
   "metadata": {},
   "outputs": [
    {
     "data": {
      "text/plain": [
       "((-0.6000000000000001+0.2j), (-0.6000000000000001-0.2j))"
      ]
     },
     "execution_count": 32,
     "metadata": {},
     "output_type": "execute_result"
    }
   ],
   "source": [
    "#import cmath to get complex numbers / imaginary\n",
    "from numpy.lib.scimath import sqrt\n",
    "def cuadratica(a,b,c):   \n",
    "\n",
    "    r1 = (-b + sqrt(b**2 - 4*a*c))/(2*a)\n",
    "    r2 = (-b - sqrt(b**2 - 4*a*c))/(2*a)\n",
    "    return r1, r2#si no regreso nada no muestra nada\n",
    "\n",
    "#cuadratic(1,-1,-6)\n",
    "#cuadratic(1,-2,5)\n",
    "from numpy.lib.scimath import sqrt\n",
    "cuadratica(5,6,2)\n"
   ]
  },
  {
   "cell_type": "code",
   "execution_count": 33,
   "metadata": {},
   "outputs": [
    {
     "data": {
      "text/plain": [
       "((-0.6000000000000001+0.2j), (-0.6000000000000001-0.2j))"
      ]
     },
     "execution_count": 33,
     "metadata": {},
     "output_type": "execute_result"
    }
   ],
   "source": [
    "#import cmath to get complex numbers / imaginary\n",
    "\n",
    "def cuadratica(a,b,c):   \n",
    "\n",
    "    r1 = (-b + sqrt(b**2 - 4*a*c))/(2*a)\n",
    "    r2 = (-b - sqrt(b**2 - 4*a*c))/(2*a)\n",
    "    return r1, r2#si no regreso nada no muestra nada\n",
    "\n",
    "#cuadratic(1,-1,-6)\n",
    "#cuadratic(1,-2,5)\n",
    "from numpy.lib.scimath import sqrt\n",
    "cuadratica(5,6,2)\n"
   ]
  },
  {
   "cell_type": "code",
   "execution_count": 34,
   "metadata": {},
   "outputs": [
    {
     "name": "stdout",
     "output_type": "stream",
     "text": [
      "-0.2\n",
      "-1.0\n"
     ]
    }
   ],
   "source": [
    "from numpy.lib.scimath import sqrt\n",
    "a = 5; b = 6; c = 1 # polynomial coefficients\n",
    "\n",
    "r1 = (-b + sqrt(b**2 - 4*a*c))/(2*a)\n",
    "r2 = (-b - sqrt(b**2 - 4*a*c))/(2*a)\n",
    "print(r1)\n",
    "print(r2)\n",
    "\n"
   ]
  },
  {
   "cell_type": "code",
   "execution_count": 35,
   "metadata": {},
   "outputs": [],
   "source": [
    "#import cmath to get complex numbers / imaginary\n",
    "\n",
    "def cuadratica(a=5,b=6,c=2):   \n",
    "\n",
    "    r1 = (-b + sqrt(b**2 - 4*a*c))/(2*a)\n",
    "    r2 = (-b - sqrt(b**2 - 4*a*c))/(2*a)\n",
    "    return r1, r2#si no regreso nada no muestra nada\n",
    "\n",
    "#cuadratic(1,-1,-6)\n",
    "#cuadratic(1,-2,5)\n",
    "\n",
    "\n"
   ]
  },
  {
   "cell_type": "code",
   "execution_count": 36,
   "metadata": {},
   "outputs": [
    {
     "name": "stdout",
     "output_type": "stream",
     "text": [
      "-0.2\n",
      "-1.0\n"
     ]
    }
   ],
   "source": [
    "from numpy.lib.scimath import sqrt\n",
    "a = 5; b = 6; c = 1 # polynomial coefficients\n",
    "\n",
    "r1 = (-b + sqrt(b**2 - 4*a*c))/(2*a)\n",
    "r2 = (-b - sqrt(b**2 - 4*a*c))/(2*a)\n",
    "print(r1)\n",
    "print(r2)\n",
    "\n"
   ]
  },
  {
   "cell_type": "code",
   "execution_count": 37,
   "metadata": {},
   "outputs": [],
   "source": [
    "#import cmath to get complex numbers / imaginary\n",
    "\n",
    "def cuadratica(a=5,b=6,c=2):   \n",
    "\n",
    "    r1 = (-b + sqrt(b**2 - 4*a*c))/(2*a)\n",
    "    r2 = (-b - sqrt(b**2 - 4*a*c))/(2*a)\n",
    "    return r1, r2#si no regreso nada no muestra nada\n",
    "\n",
    "#cuadratic(1,-1,-6)\n",
    "#cuadratic(1,-2,5)\n",
    "\n",
    "\n"
   ]
  },
  {
   "cell_type": "code",
   "execution_count": 38,
   "metadata": {},
   "outputs": [],
   "source": [
    "#import cmath to get complex numbers / imaginary\n",
    "from numpy.lib.scimath import sqrt\n",
    "def cuadratica(a=5,b=6,c=2):   \n",
    "\n",
    "    r1 = (-b + sqrt(b**2 - 4*a*c))/(2*a)\n",
    "    r2 = (-b - sqrt(b**2 - 4*a*c))/(2*a)\n",
    "    return r1, r2#si no regreso nada no muestra nada\n",
    "\n",
    "#cuadratic(1,-1,-6)\n",
    "#cuadratic(1,-2,5)\n",
    "\n",
    "\n"
   ]
  },
  {
   "cell_type": "code",
   "execution_count": 39,
   "metadata": {},
   "outputs": [],
   "source": [
    "#import cmath to get complex numbers / imaginary\n",
    "from numpy.lib.scimath import sqrt\n",
    "def cuadratica(a=5,b=6,c=2):   \n",
    "\n",
    "    r1 = (-b + sqrt(b**2 - 4*a*c))/(2*a)\n",
    "    r2 = (-b - sqrt(b**2 - 4*a*c))/(2*a)\n",
    "    return r1, r2#si no regreso nada no muestra nada\n",
    "\n",
    "#cuadratic(1,-1,-6)\n",
    "#cuadratic(1,-2,5)\n",
    "\n",
    "\n"
   ]
  },
  {
   "cell_type": "code",
   "execution_count": 40,
   "metadata": {},
   "outputs": [],
   "source": [
    "#import cmath to get complex numbers / imaginary\n",
    "from numpy.lib.scimath import sqrt\n",
    "def cuadratica(a=1,b=6,c=2):   \n",
    "\n",
    "    r1 = (-b + sqrt(b**2 - 4*a*c))/(2*a)\n",
    "    r2 = (-b - sqrt(b**2 - 4*a*c))/(2*a)\n",
    "    print(r1)\n",
    "    print(r2)\n",
    "    return r1, r2#si no regreso nada no muestra nada\n",
    "\n",
    "#cuadratic(1,-1,-6)\n",
    "#cuadratic(1,-2,5)\n",
    "\n",
    "\n"
   ]
  },
  {
   "cell_type": "code",
   "execution_count": 41,
   "metadata": {},
   "outputs": [],
   "source": [
    "#import cmath to get complex numbers / imaginary\n",
    "from numpy.lib.scimath import sqrt\n",
    "def cuadratica(a=1,b=6,c=2):   \n",
    "\n",
    "    r1 = (-b + sqrt(b**2 - 4*a*c))/(2*a)\n",
    "    r2 = (-b - sqrt(b**2 - 4*a*c))/(2*a)\n",
    "    print(r1)\n",
    "    print(r2)\n",
    "    return r1, r2#si no regreso nada no muestra nada\n",
    "\n",
    "#cuadratic(1,-1,-6)\n",
    "#cuadratic(1,-2,5)\n",
    "\n",
    "\n"
   ]
  },
  {
   "cell_type": "code",
   "execution_count": 42,
   "metadata": {},
   "outputs": [
    {
     "name": "stdout",
     "output_type": "stream",
     "text": [
      "-0.2\n",
      "-1.0\n"
     ]
    }
   ],
   "source": [
    "from numpy.lib.scimath import sqrt\n",
    "a = 5; b = 6; c = 1 # polynomial coefficients\n",
    "\n",
    "r1 = (-b + sqrt(b**2 - 4*a*c))/(2*a)\n",
    "r2 = (-b - sqrt(b**2 - 4*a*c))/(2*a)\n",
    "print(r1)\n",
    "print(r2)\n",
    "\n"
   ]
  },
  {
   "cell_type": "code",
   "execution_count": 43,
   "metadata": {},
   "outputs": [],
   "source": [
    "#import cmath to get complex numbers / imaginary\n",
    "from numpy.lib.scimath import sqrt\n",
    "def cuadratica(a=1,b=6,c=2):   \n",
    "\n",
    "    r1 = (-b + sqrt(b**2 - 4*a*c))/(2*a)\n",
    "    r2 = (-b - sqrt(b**2 - 4*a*c))/(2*a)\n",
    "    print(r1)\n",
    "    print(r2)\n",
    "    return r1, r2#si no regreso nada no muestra nada\n",
    "\n",
    "#cuadratic(1,-1,-6)\n",
    "#cuadratic(1,-2,5)\n",
    "\n",
    "\n"
   ]
  },
  {
   "cell_type": "code",
   "execution_count": 44,
   "metadata": {},
   "outputs": [
    {
     "ename": "SyntaxError",
     "evalue": "invalid syntax (<ipython-input-44-f3ab3415b769>, line 10)",
     "output_type": "error",
     "traceback": [
      "\u001b[1;36m  File \u001b[1;32m\"<ipython-input-44-f3ab3415b769>\"\u001b[1;36m, line \u001b[1;32m10\u001b[0m\n\u001b[1;33m    cuadratica():\u001b[0m\n\u001b[1;37m                 ^\u001b[0m\n\u001b[1;31mSyntaxError\u001b[0m\u001b[1;31m:\u001b[0m invalid syntax\n"
     ]
    }
   ],
   "source": [
    "#import cmath to get complex numbers / imaginary\n",
    "from numpy.lib.scimath import sqrt\n",
    "def cuadratica(a=1,b=6,c=2):   \n",
    "\n",
    "    r1 = (-b + sqrt(b**2 - 4*a*c))/(2*a)\n",
    "    r2 = (-b - sqrt(b**2 - 4*a*c))/(2*a)\n",
    "    print(r1)\n",
    "    print(r2)\n",
    "    return r1, r2#si no regreso nada no muestra nada\n",
    "cuadratica():\n",
    "#cuadratic(1,-1,-6)\n",
    "#cuadratic(1,-2,5)\n",
    "\n",
    "\n"
   ]
  },
  {
   "cell_type": "code",
   "execution_count": 45,
   "metadata": {},
   "outputs": [
    {
     "name": "stdout",
     "output_type": "stream",
     "text": [
      "-0.3542486889354093\n",
      "-5.645751311064591\n"
     ]
    },
    {
     "data": {
      "text/plain": [
       "(-0.3542486889354093, -5.645751311064591)"
      ]
     },
     "execution_count": 45,
     "metadata": {},
     "output_type": "execute_result"
    }
   ],
   "source": [
    "#import cmath to get complex numbers / imaginary\n",
    "from numpy.lib.scimath import sqrt\n",
    "def cuadratica(a=1,b=6,c=2):   \n",
    "\n",
    "    r1 = (-b + sqrt(b**2 - 4*a*c))/(2*a)\n",
    "    r2 = (-b - sqrt(b**2 - 4*a*c))/(2*a)\n",
    "    print(r1)\n",
    "    print(r2)\n",
    "    return r1, r2#si no regreso nada no muestra nada\n",
    "cuadratica()\n",
    "#cuadratic(1,-1,-6)\n",
    "#cuadratic(1,-2,5)\n",
    "\n",
    "\n"
   ]
  },
  {
   "cell_type": "code",
   "execution_count": 46,
   "metadata": {},
   "outputs": [
    {
     "name": "stdout",
     "output_type": "stream",
     "text": [
      "(-0.6000000000000001+0.2j)\n",
      "(-0.6000000000000001-0.2j)\n"
     ]
    },
    {
     "data": {
      "text/plain": [
       "((-0.6000000000000001+0.2j), (-0.6000000000000001-0.2j))"
      ]
     },
     "execution_count": 46,
     "metadata": {},
     "output_type": "execute_result"
    }
   ],
   "source": [
    "#import cmath to get complex numbers / imaginary\n",
    "from numpy.lib.scimath import sqrt\n",
    "def cuadratica(a=5,b=6,c=2):   \n",
    "\n",
    "    r1 = (-b + sqrt(b**2 - 4*a*c))/(2*a)\n",
    "    r2 = (-b - sqrt(b**2 - 4*a*c))/(2*a)\n",
    "    print(r1)\n",
    "    print(r2)\n",
    "    return r1, r2#si no regreso nada no muestra nada\n",
    "cuadratica()\n",
    "#cuadratic(1,-1,-6)\n",
    "#cuadratic(1,-2,5)\n",
    "\n",
    "\n"
   ]
  },
  {
   "cell_type": "code",
   "execution_count": 47,
   "metadata": {},
   "outputs": [
    {
     "name": "stdout",
     "output_type": "stream",
     "text": [
      "-0.3542486889354093\n",
      "-5.645751311064591\n"
     ]
    },
    {
     "data": {
      "text/plain": [
       "(-0.3542486889354093, -5.645751311064591)"
      ]
     },
     "execution_count": 47,
     "metadata": {},
     "output_type": "execute_result"
    }
   ],
   "source": [
    "#import cmath to get complex numbers / imaginary\n",
    "from numpy.lib.scimath import sqrt\n",
    "def cuadratica(a=1,b=6,c=2):   \n",
    "\n",
    "    r1 = (-b + sqrt(b**2 - 4*a*c))/(2*a)\n",
    "    r2 = (-b - sqrt(b**2 - 4*a*c))/(2*a)\n",
    "    print(r1)\n",
    "    print(r2)\n",
    "    return r1, r2#si no regreso nada no muestra nada\n",
    "cuadratica()\n",
    "#cuadratic(1,-1,-6)\n",
    "#cuadratic(1,-2,5)\n",
    "\n",
    "\n"
   ]
  },
  {
   "cell_type": "code",
   "execution_count": 48,
   "metadata": {},
   "outputs": [
    {
     "name": "stdout",
     "output_type": "stream",
     "text": [
      "-0.6\n",
      "-0.6\n",
      "C:\\Users\\anayeli\\Anaconda3\\lib\\site-packages\\ipykernel_launcher.py:5: ComplexWarning: Casting complex values to real discards the imaginary part\n",
      "  \"\"\"\n",
      "C:\\Users\\anayeli\\Anaconda3\\lib\\site-packages\\ipykernel_launcher.py:6: ComplexWarning: Casting complex values to real discards the imaginary part\n",
      "  \n"
     ]
    },
    {
     "data": {
      "text/plain": [
       "(-0.6, -0.6)"
      ]
     },
     "execution_count": 48,
     "metadata": {},
     "output_type": "execute_result"
    }
   ],
   "source": [
    "#import cmath to get complex numbers / imaginary\n",
    "from numpy.lib.scimath import sqrt\n",
    "def cuadratica(a=5,b=6,c=2):   \n",
    "\n",
    "    r1 = float(-b + sqrt(b**2 - 4*a*c))/(2*a)\n",
    "    r2 = float(-b - sqrt(b**2 - 4*a*c))/(2*a)\n",
    "    print(r1)\n",
    "    print(r2)\n",
    "    return r1, r2#si no regreso nada no muestra nada\n",
    "cuadratica()\n",
    "#cuadratic(1,-1,-6)\n",
    "#cuadratic(1,-2,5)\n",
    "\n",
    "\n"
   ]
  },
  {
   "cell_type": "code",
   "execution_count": 49,
   "metadata": {},
   "outputs": [
    {
     "name": "stderr",
     "output_type": "stream",
     "text": [
      "C:\\Users\\anayeli\\Anaconda3\\lib\\site-packages\\ipykernel_launcher.py:5: ComplexWarning: Casting complex values to real discards the imaginary part\n",
      "  \"\"\"\n"
     ]
    },
    {
     "ename": "AttributeError",
     "evalue": "attribute 'real' of 'numpy.generic' objects is not writable",
     "output_type": "error",
     "traceback": [
      "\u001b[1;31m---------------------------------------------------------------------------\u001b[0m",
      "\u001b[1;31mAttributeError\u001b[0m                            Traceback (most recent call last)",
      "\u001b[1;32m<ipython-input-49-82f000ea60de>\u001b[0m in \u001b[0;36m<module>\u001b[1;34m\u001b[0m\n\u001b[0;32m      8\u001b[0m     \u001b[0mprint\u001b[0m\u001b[1;33m(\u001b[0m\u001b[0mr2\u001b[0m\u001b[1;33m)\u001b[0m\u001b[1;33m\u001b[0m\u001b[1;33m\u001b[0m\u001b[0m\n\u001b[0;32m      9\u001b[0m     \u001b[1;32mreturn\u001b[0m \u001b[0mr1\u001b[0m\u001b[1;33m,\u001b[0m \u001b[0mr2\u001b[0m\u001b[1;31m#si no regreso nada no muestra nada\u001b[0m\u001b[1;33m\u001b[0m\u001b[1;33m\u001b[0m\u001b[0m\n\u001b[1;32m---> 10\u001b[1;33m \u001b[0mcuadratica\u001b[0m\u001b[1;33m(\u001b[0m\u001b[1;33m)\u001b[0m\u001b[1;33m\u001b[0m\u001b[1;33m\u001b[0m\u001b[0m\n\u001b[0m\u001b[0;32m     11\u001b[0m \u001b[1;31m#cuadratic(1,-1,-6)\u001b[0m\u001b[1;33m\u001b[0m\u001b[1;33m\u001b[0m\u001b[1;33m\u001b[0m\u001b[0m\n\u001b[0;32m     12\u001b[0m \u001b[1;31m#cuadratic(1,-2,5)\u001b[0m\u001b[1;33m\u001b[0m\u001b[1;33m\u001b[0m\u001b[1;33m\u001b[0m\u001b[0m\n",
      "\u001b[1;32m<ipython-input-49-82f000ea60de>\u001b[0m in \u001b[0;36mcuadratica\u001b[1;34m(a, b, c)\u001b[0m\n\u001b[0;32m      3\u001b[0m \u001b[1;32mdef\u001b[0m \u001b[0mcuadratica\u001b[0m\u001b[1;33m(\u001b[0m\u001b[0ma\u001b[0m\u001b[1;33m=\u001b[0m\u001b[1;36m5\u001b[0m\u001b[1;33m,\u001b[0m\u001b[0mb\u001b[0m\u001b[1;33m=\u001b[0m\u001b[1;36m6\u001b[0m\u001b[1;33m,\u001b[0m\u001b[0mc\u001b[0m\u001b[1;33m=\u001b[0m\u001b[1;36m2\u001b[0m\u001b[1;33m)\u001b[0m\u001b[1;33m:\u001b[0m\u001b[1;33m\u001b[0m\u001b[1;33m\u001b[0m\u001b[0m\n\u001b[0;32m      4\u001b[0m \u001b[1;33m\u001b[0m\u001b[0m\n\u001b[1;32m----> 5\u001b[1;33m     \u001b[0mr1\u001b[0m\u001b[1;33m.\u001b[0m\u001b[0mreal\u001b[0m \u001b[1;33m=\u001b[0m \u001b[0mfloat\u001b[0m\u001b[1;33m(\u001b[0m\u001b[1;33m-\u001b[0m\u001b[0mb\u001b[0m \u001b[1;33m+\u001b[0m \u001b[0msqrt\u001b[0m\u001b[1;33m(\u001b[0m\u001b[0mb\u001b[0m\u001b[1;33m**\u001b[0m\u001b[1;36m2\u001b[0m \u001b[1;33m-\u001b[0m \u001b[1;36m4\u001b[0m\u001b[1;33m*\u001b[0m\u001b[0ma\u001b[0m\u001b[1;33m*\u001b[0m\u001b[0mc\u001b[0m\u001b[1;33m)\u001b[0m\u001b[1;33m)\u001b[0m\u001b[1;33m/\u001b[0m\u001b[1;33m(\u001b[0m\u001b[1;36m2\u001b[0m\u001b[1;33m*\u001b[0m\u001b[0ma\u001b[0m\u001b[1;33m)\u001b[0m\u001b[1;33m\u001b[0m\u001b[1;33m\u001b[0m\u001b[0m\n\u001b[0m\u001b[0;32m      6\u001b[0m     \u001b[0mr2\u001b[0m\u001b[1;33m.\u001b[0m\u001b[0mreal\u001b[0m \u001b[1;33m=\u001b[0m \u001b[0mfloat\u001b[0m\u001b[1;33m(\u001b[0m\u001b[1;33m-\u001b[0m\u001b[0mb\u001b[0m \u001b[1;33m-\u001b[0m \u001b[0msqrt\u001b[0m\u001b[1;33m(\u001b[0m\u001b[0mb\u001b[0m\u001b[1;33m**\u001b[0m\u001b[1;36m2\u001b[0m \u001b[1;33m-\u001b[0m \u001b[1;36m4\u001b[0m\u001b[1;33m*\u001b[0m\u001b[0ma\u001b[0m\u001b[1;33m*\u001b[0m\u001b[0mc\u001b[0m\u001b[1;33m)\u001b[0m\u001b[1;33m)\u001b[0m\u001b[1;33m/\u001b[0m\u001b[1;33m(\u001b[0m\u001b[1;36m2\u001b[0m\u001b[1;33m*\u001b[0m\u001b[0ma\u001b[0m\u001b[1;33m)\u001b[0m\u001b[1;33m\u001b[0m\u001b[1;33m\u001b[0m\u001b[0m\n\u001b[0;32m      7\u001b[0m     \u001b[0mprint\u001b[0m\u001b[1;33m(\u001b[0m\u001b[0mr1\u001b[0m\u001b[1;33m)\u001b[0m\u001b[1;33m\u001b[0m\u001b[1;33m\u001b[0m\u001b[0m\n",
      "\u001b[1;31mAttributeError\u001b[0m: attribute 'real' of 'numpy.generic' objects is not writable"
     ]
    }
   ],
   "source": [
    "#import cmath to get complex numbers / imaginary\n",
    "from numpy.lib.scimath import sqrt\n",
    "def cuadratica(a=5,b=6,c=2):   \n",
    "\n",
    "    r1.real = float(-b + sqrt(b**2 - 4*a*c))/(2*a)\n",
    "    r2.real = float(-b - sqrt(b**2 - 4*a*c))/(2*a)\n",
    "    print(r1)\n",
    "    print(r2)\n",
    "    return r1, r2#si no regreso nada no muestra nada\n",
    "cuadratica()\n",
    "#cuadratic(1,-1,-6)\n",
    "#cuadratic(1,-2,5)\n",
    "\n",
    "\n"
   ]
  },
  {
   "cell_type": "code",
   "execution_count": 50,
   "metadata": {},
   "outputs": [
    {
     "name": "stderr",
     "output_type": "stream",
     "text": [
      "C:\\Users\\anayeli\\Anaconda3\\lib\\site-packages\\ipykernel_launcher.py:5: ComplexWarning: Casting complex values to real discards the imaginary part\n",
      "  \"\"\"\n"
     ]
    },
    {
     "ename": "AttributeError",
     "evalue": "attribute 'real' of 'numpy.generic' objects is not writable",
     "output_type": "error",
     "traceback": [
      "\u001b[1;31m---------------------------------------------------------------------------\u001b[0m",
      "\u001b[1;31mAttributeError\u001b[0m                            Traceback (most recent call last)",
      "\u001b[1;32m<ipython-input-50-123239254490>\u001b[0m in \u001b[0;36m<module>\u001b[1;34m\u001b[0m\n\u001b[0;32m      8\u001b[0m     \u001b[0mprint\u001b[0m\u001b[1;33m(\u001b[0m\u001b[0mr2\u001b[0m\u001b[1;33m)\u001b[0m\u001b[1;33m\u001b[0m\u001b[1;33m\u001b[0m\u001b[0m\n\u001b[0;32m      9\u001b[0m     \u001b[1;32mreturn\u001b[0m \u001b[0mr1\u001b[0m\u001b[1;33m,\u001b[0m \u001b[0mr2\u001b[0m\u001b[1;31m#si no regreso nada no muestra nada\u001b[0m\u001b[1;33m\u001b[0m\u001b[1;33m\u001b[0m\u001b[0m\n\u001b[1;32m---> 10\u001b[1;33m \u001b[0mcuadratica\u001b[0m\u001b[1;33m(\u001b[0m\u001b[1;33m)\u001b[0m\u001b[1;33m\u001b[0m\u001b[1;33m\u001b[0m\u001b[0m\n\u001b[0m\u001b[0;32m     11\u001b[0m \u001b[1;31m#cuadratic(1,-1,-6)\u001b[0m\u001b[1;33m\u001b[0m\u001b[1;33m\u001b[0m\u001b[1;33m\u001b[0m\u001b[0m\n\u001b[0;32m     12\u001b[0m \u001b[1;31m#cuadratic(1,-2,5)\u001b[0m\u001b[1;33m\u001b[0m\u001b[1;33m\u001b[0m\u001b[1;33m\u001b[0m\u001b[0m\n",
      "\u001b[1;32m<ipython-input-50-123239254490>\u001b[0m in \u001b[0;36mcuadratica\u001b[1;34m(a, b, c)\u001b[0m\n\u001b[0;32m      3\u001b[0m \u001b[1;32mdef\u001b[0m \u001b[0mcuadratica\u001b[0m\u001b[1;33m(\u001b[0m\u001b[0ma\u001b[0m\u001b[1;33m=\u001b[0m\u001b[1;36m5\u001b[0m\u001b[1;33m,\u001b[0m\u001b[0mb\u001b[0m\u001b[1;33m=\u001b[0m\u001b[1;36m6\u001b[0m\u001b[1;33m,\u001b[0m\u001b[0mc\u001b[0m\u001b[1;33m=\u001b[0m\u001b[1;36m2\u001b[0m\u001b[1;33m)\u001b[0m\u001b[1;33m:\u001b[0m\u001b[1;33m\u001b[0m\u001b[1;33m\u001b[0m\u001b[0m\n\u001b[0;32m      4\u001b[0m \u001b[1;33m\u001b[0m\u001b[0m\n\u001b[1;32m----> 5\u001b[1;33m     \u001b[0mr1\u001b[0m\u001b[1;33m.\u001b[0m\u001b[0mreal\u001b[0m \u001b[1;33m=\u001b[0m \u001b[0mfloat\u001b[0m\u001b[1;33m(\u001b[0m\u001b[1;33m-\u001b[0m\u001b[0mb\u001b[0m \u001b[1;33m+\u001b[0m \u001b[0msqrt\u001b[0m\u001b[1;33m(\u001b[0m\u001b[0mb\u001b[0m\u001b[1;33m**\u001b[0m\u001b[1;36m2\u001b[0m \u001b[1;33m-\u001b[0m \u001b[1;36m4\u001b[0m\u001b[1;33m*\u001b[0m\u001b[0ma\u001b[0m\u001b[1;33m*\u001b[0m\u001b[0mc\u001b[0m\u001b[1;33m)\u001b[0m\u001b[1;33m)\u001b[0m\u001b[1;33m/\u001b[0m\u001b[1;33m(\u001b[0m\u001b[1;36m2\u001b[0m\u001b[1;33m*\u001b[0m\u001b[0ma\u001b[0m\u001b[1;33m)\u001b[0m\u001b[1;33m\u001b[0m\u001b[1;33m\u001b[0m\u001b[0m\n\u001b[0m\u001b[0;32m      6\u001b[0m     \u001b[0mr2\u001b[0m\u001b[1;33m.\u001b[0m\u001b[0mreal\u001b[0m \u001b[1;33m=\u001b[0m \u001b[0mfloat\u001b[0m\u001b[1;33m(\u001b[0m\u001b[1;33m-\u001b[0m\u001b[0mb\u001b[0m \u001b[1;33m-\u001b[0m \u001b[0msqrt\u001b[0m\u001b[1;33m(\u001b[0m\u001b[0mb\u001b[0m\u001b[1;33m**\u001b[0m\u001b[1;36m2\u001b[0m \u001b[1;33m-\u001b[0m \u001b[1;36m4\u001b[0m\u001b[1;33m*\u001b[0m\u001b[0ma\u001b[0m\u001b[1;33m*\u001b[0m\u001b[0mc\u001b[0m\u001b[1;33m)\u001b[0m\u001b[1;33m)\u001b[0m\u001b[1;33m/\u001b[0m\u001b[1;33m(\u001b[0m\u001b[1;36m2\u001b[0m\u001b[1;33m*\u001b[0m\u001b[0ma\u001b[0m\u001b[1;33m)\u001b[0m\u001b[1;33m\u001b[0m\u001b[1;33m\u001b[0m\u001b[0m\n\u001b[0;32m      7\u001b[0m     \u001b[0mprint\u001b[0m\u001b[1;33m(\u001b[0m\u001b[0mr1\u001b[0m\u001b[1;33m)\u001b[0m\u001b[1;33m\u001b[0m\u001b[1;33m\u001b[0m\u001b[0m\n",
      "\u001b[1;31mAttributeError\u001b[0m: attribute 'real' of 'numpy.generic' objects is not writable"
     ]
    }
   ],
   "source": [
    "#import cmath to get complex numbers / imaginary\n",
    "#from numpy.lib.scimath import sqrt\n",
    "def cuadratica(a=5,b=6,c=2):   \n",
    "\n",
    "    r1.real = float(-b + sqrt(b**2 - 4*a*c))/(2*a)\n",
    "    r2.real = float(-b - sqrt(b**2 - 4*a*c))/(2*a)\n",
    "    print(r1)\n",
    "    print(r2)\n",
    "    return r1, r2#si no regreso nada no muestra nada\n",
    "cuadratica()\n",
    "#cuadratic(1,-1,-6)\n",
    "#cuadratic(1,-2,5)\n",
    "\n",
    "\n"
   ]
  },
  {
   "cell_type": "code",
   "execution_count": 51,
   "metadata": {},
   "outputs": [
    {
     "name": "stdout",
     "output_type": "stream",
     "text": [
      "-0.6\n",
      "-0.6\n",
      "C:\\Users\\anayeli\\Anaconda3\\lib\\site-packages\\ipykernel_launcher.py:5: ComplexWarning: Casting complex values to real discards the imaginary part\n",
      "  \"\"\"\n",
      "C:\\Users\\anayeli\\Anaconda3\\lib\\site-packages\\ipykernel_launcher.py:6: ComplexWarning: Casting complex values to real discards the imaginary part\n",
      "  \n"
     ]
    },
    {
     "data": {
      "text/plain": [
       "(-0.6, -0.6)"
      ]
     },
     "execution_count": 51,
     "metadata": {},
     "output_type": "execute_result"
    }
   ],
   "source": [
    "#import cmath to get complex numbers / imaginary\n",
    "#from numpy.lib.scimath import sqrt\n",
    "def cuadratica(a=5,b=6,c=2):   \n",
    "\n",
    "    r1 = float(-b + sqrt(b**2 - 4*a*c))/(2*a)\n",
    "    r2 = float(-b - sqrt(b**2 - 4*a*c))/(2*a)\n",
    "\n",
    "    print(r1.real)\n",
    "    print(r2.real)\n",
    "    return r1, r2#si no regreso nada no muestra nada\n",
    "cuadratica()\n",
    "#cuadratic(1,-1,-6)\n",
    "#cuadratic(1,-2,5)\n",
    "\n",
    "\n"
   ]
  },
  {
   "cell_type": "code",
   "execution_count": 52,
   "metadata": {},
   "outputs": [
    {
     "name": "stdout",
     "output_type": "stream",
     "text": [
      "0.0\n",
      "0.0\n",
      "C:\\Users\\anayeli\\Anaconda3\\lib\\site-packages\\ipykernel_launcher.py:5: ComplexWarning: Casting complex values to real discards the imaginary part\n",
      "  \"\"\"\n",
      "C:\\Users\\anayeli\\Anaconda3\\lib\\site-packages\\ipykernel_launcher.py:6: ComplexWarning: Casting complex values to real discards the imaginary part\n",
      "  \n"
     ]
    },
    {
     "data": {
      "text/plain": [
       "(-0.6, -0.6)"
      ]
     },
     "execution_count": 52,
     "metadata": {},
     "output_type": "execute_result"
    }
   ],
   "source": [
    "#import cmath to get complex numbers / imaginary\n",
    "#from numpy.lib.scimath import sqrt\n",
    "def cuadratica(a=5,b=6,c=2):   \n",
    "\n",
    "    r1 = float(-b + sqrt(b**2 - 4*a*c))/(2*a)\n",
    "    r2 = float(-b - sqrt(b**2 - 4*a*c))/(2*a)\n",
    "\n",
    "    print(r1.imag)\n",
    "    print(r2.imag)\n",
    "    return r1, r2#si no regreso nada no muestra nada\n",
    "cuadratica()\n",
    "#cuadratic(1,-1,-6)\n",
    "#cuadratic(1,-2,5)\n",
    "\n",
    "\n"
   ]
  },
  {
   "cell_type": "code",
   "execution_count": 53,
   "metadata": {},
   "outputs": [
    {
     "name": "stdout",
     "output_type": "stream",
     "text": [
      "0.0\n",
      "0.0\n",
      "C:\\Users\\anayeli\\Anaconda3\\lib\\site-packages\\ipykernel_launcher.py:5: ComplexWarning: Casting complex values to real discards the imaginary part\n",
      "  \"\"\"\n",
      "C:\\Users\\anayeli\\Anaconda3\\lib\\site-packages\\ipykernel_launcher.py:6: ComplexWarning: Casting complex values to real discards the imaginary part\n",
      "  \n"
     ]
    },
    {
     "data": {
      "text/plain": [
       "(-0.6, -0.6)"
      ]
     },
     "execution_count": 53,
     "metadata": {},
     "output_type": "execute_result"
    }
   ],
   "source": [
    "#import cmath to get complex numbers / imaginary\n",
    "#from numpy.lib.scimath import sqrt\n",
    "def cuadratica(a=5,b=6,c=2):   \n",
    "\n",
    "    r1 = float(-b + sqrt(b**2 - 4*a*c))/(2*a)\n",
    "    r2 = float(-b - sqrt(b**2 - 4*a*c))/(2*a)\n",
    "\n",
    "    print(r1.imag)\n",
    "    print(r2.imag)\n",
    "    return r1, r2#si no regreso nada no muestra nada\n",
    "cuadratica()\n",
    "#cuadratic(1,-1,-6)\n",
    "#cuadratic(1,-2,5)\n",
    "\n",
    "\n"
   ]
  },
  {
   "cell_type": "code",
   "execution_count": 54,
   "metadata": {},
   "outputs": [
    {
     "name": "stdout",
     "output_type": "stream",
     "text": [
      "0.0\n",
      "0.0\n"
     ]
    },
    {
     "data": {
      "text/plain": [
       "(-0.3542486889354093, -5.645751311064591)"
      ]
     },
     "execution_count": 54,
     "metadata": {},
     "output_type": "execute_result"
    }
   ],
   "source": [
    "#import cmath to get complex numbers / imaginary\n",
    "#from numpy.lib.scimath import sqrt\n",
    "def cuadratica(a=1,b=6,c=2):   \n",
    "\n",
    "    r1 = float(-b + sqrt(b**2 - 4*a*c))/(2*a)\n",
    "    r2 = float(-b - sqrt(b**2 - 4*a*c))/(2*a)\n",
    "\n",
    "    print(r1.imag)\n",
    "    print(r2.imag)\n",
    "    return r1, r2#si no regreso nada no muestra nada\n",
    "cuadratica()\n",
    "#cuadratic(1,-1,-6)\n",
    "#cuadratic(1,-2,5)\n",
    "\n",
    "\n"
   ]
  },
  {
   "cell_type": "code",
   "execution_count": 55,
   "metadata": {},
   "outputs": [
    {
     "name": "stdout",
     "output_type": "stream",
     "text": [
      "(1+2.23606797749979j)\n",
      "(1-2.23606797749979j)\n"
     ]
    }
   ],
   "source": [
    "from numpy.lib.scimath import sqrt\n",
    "a = 1; b = -2; c = 6 # polynomial coefficients\n",
    "\n",
    "r1 = (-b + sqrt(b**2 - 4*a*c))/(2*a)\n",
    "r2 = (-b - sqrt(b**2 - 4*a*c))/(2*a)\n",
    "print(r1)\n",
    "print(r2)\n",
    "\n"
   ]
  },
  {
   "cell_type": "code",
   "execution_count": 56,
   "metadata": {},
   "outputs": [
    {
     "name": "stdout",
     "output_type": "stream",
     "text": [
      "(1+2j)\n",
      "(1-2j)\n"
     ]
    }
   ],
   "source": [
    "from numpy.lib.scimath import sqrt\n",
    "a = 1; b = -2; c = 5 # polynomial coefficients\n",
    "\n",
    "r1 = (-b + sqrt(b**2 - 4*a*c))/(2*a)\n",
    "r2 = (-b - sqrt(b**2 - 4*a*c))/(2*a)\n",
    "print(r1)\n",
    "print(r2)\n",
    "\n"
   ]
  },
  {
   "cell_type": "code",
   "execution_count": 57,
   "metadata": {},
   "outputs": [
    {
     "name": "stdout",
     "output_type": "stream",
     "text": [
      "3.0\n",
      "-2.0\n"
     ]
    }
   ],
   "source": [
    "from numpy.lib.scimath import sqrt\n",
    "a = 1; b = -1; c = -6 # polynomial coefficients\n",
    "\n",
    "r1 = (-b + sqrt(b**2 - 4*a*c))/(2*a)\n",
    "r2 = (-b - sqrt(b**2 - 4*a*c))/(2*a)\n",
    "print(r1)\n",
    "print(r2)\n",
    "\n"
   ]
  },
  {
   "cell_type": "code",
   "execution_count": 58,
   "metadata": {},
   "outputs": [
    {
     "name": "stdout",
     "output_type": "stream",
     "text": [
      "0.0\n"
     ]
    },
    {
     "ename": "AttributeError",
     "evalue": "'float' object has no attribute 'im'",
     "output_type": "error",
     "traceback": [
      "\u001b[1;31m---------------------------------------------------------------------------\u001b[0m",
      "\u001b[1;31mAttributeError\u001b[0m                            Traceback (most recent call last)",
      "\u001b[1;32m<ipython-input-58-e0621e5c4328>\u001b[0m in \u001b[0;36m<module>\u001b[1;34m\u001b[0m\n\u001b[0;32m      9\u001b[0m     \u001b[0mprint\u001b[0m\u001b[1;33m(\u001b[0m\u001b[0mr2\u001b[0m\u001b[1;33m.\u001b[0m\u001b[0mim\u001b[0m\u001b[1;33m)\u001b[0m\u001b[1;33m\u001b[0m\u001b[1;33m\u001b[0m\u001b[0m\n\u001b[0;32m     10\u001b[0m     \u001b[1;32mreturn\u001b[0m \u001b[0mr1\u001b[0m\u001b[1;33m,\u001b[0m \u001b[0mr2\u001b[0m\u001b[1;31m#si no regreso nada no muestra nada\u001b[0m\u001b[1;33m\u001b[0m\u001b[1;33m\u001b[0m\u001b[0m\n\u001b[1;32m---> 11\u001b[1;33m \u001b[0mcuadratica\u001b[0m\u001b[1;33m(\u001b[0m\u001b[1;33m)\u001b[0m\u001b[1;33m\u001b[0m\u001b[1;33m\u001b[0m\u001b[0m\n\u001b[0m\u001b[0;32m     12\u001b[0m \u001b[1;31m#cuadratic(1,-1,-6)\u001b[0m\u001b[1;33m\u001b[0m\u001b[1;33m\u001b[0m\u001b[1;33m\u001b[0m\u001b[0m\n\u001b[0;32m     13\u001b[0m \u001b[1;31m#cuadratic(1,-2,5)\u001b[0m\u001b[1;33m\u001b[0m\u001b[1;33m\u001b[0m\u001b[1;33m\u001b[0m\u001b[0m\n",
      "\u001b[1;32m<ipython-input-58-e0621e5c4328>\u001b[0m in \u001b[0;36mcuadratica\u001b[1;34m(a, b, c)\u001b[0m\n\u001b[0;32m      7\u001b[0m \u001b[1;33m\u001b[0m\u001b[0m\n\u001b[0;32m      8\u001b[0m     \u001b[0mprint\u001b[0m\u001b[1;33m(\u001b[0m\u001b[0mr1\u001b[0m\u001b[1;33m.\u001b[0m\u001b[0mimag\u001b[0m\u001b[1;33m)\u001b[0m\u001b[1;33m\u001b[0m\u001b[1;33m\u001b[0m\u001b[0m\n\u001b[1;32m----> 9\u001b[1;33m     \u001b[0mprint\u001b[0m\u001b[1;33m(\u001b[0m\u001b[0mr2\u001b[0m\u001b[1;33m.\u001b[0m\u001b[0mim\u001b[0m\u001b[1;33m)\u001b[0m\u001b[1;33m\u001b[0m\u001b[1;33m\u001b[0m\u001b[0m\n\u001b[0m\u001b[0;32m     10\u001b[0m     \u001b[1;32mreturn\u001b[0m \u001b[0mr1\u001b[0m\u001b[1;33m,\u001b[0m \u001b[0mr2\u001b[0m\u001b[1;31m#si no regreso nada no muestra nada\u001b[0m\u001b[1;33m\u001b[0m\u001b[1;33m\u001b[0m\u001b[0m\n\u001b[0;32m     11\u001b[0m \u001b[0mcuadratica\u001b[0m\u001b[1;33m(\u001b[0m\u001b[1;33m)\u001b[0m\u001b[1;33m\u001b[0m\u001b[1;33m\u001b[0m\u001b[0m\n",
      "\u001b[1;31mAttributeError\u001b[0m: 'float' object has no attribute 'im'"
     ]
    }
   ],
   "source": [
    "#import cmath to get complex numbers / imaginary\n",
    "#from numpy.lib.scimath import sqrt\n",
    "def cuadratica(a=1,b=6,c=2):   \n",
    "\n",
    "    r1 = float(-b + sqrt(b**2 - 4*a*c))/(2*a)\n",
    "    r2 = float(-b - sqrt(b**2 - 4*a*c))/(2*a)\n",
    "\n",
    "    print(r1.imag)\n",
    "    print(r2.im)\n",
    "    return r1, r2#si no regreso nada no muestra nada\n",
    "cuadratica()\n",
    "#cuadratic(1,-1,-6)\n",
    "#cuadratic(1,-2,5)\n",
    "\n",
    "\n"
   ]
  },
  {
   "cell_type": "code",
   "execution_count": 59,
   "metadata": {},
   "outputs": [
    {
     "name": "stdout",
     "output_type": "stream",
     "text": [
      "0.0\n"
     ]
    },
    {
     "ename": "AttributeError",
     "evalue": "'numpy.float64' object has no attribute 'im'",
     "output_type": "error",
     "traceback": [
      "\u001b[1;31m---------------------------------------------------------------------------\u001b[0m",
      "\u001b[1;31mAttributeError\u001b[0m                            Traceback (most recent call last)",
      "\u001b[1;32m<ipython-input-59-751ff72e01b4>\u001b[0m in \u001b[0;36m<module>\u001b[1;34m\u001b[0m\n\u001b[0;32m      9\u001b[0m     \u001b[0mprint\u001b[0m\u001b[1;33m(\u001b[0m\u001b[0mr2\u001b[0m\u001b[1;33m.\u001b[0m\u001b[0mim\u001b[0m\u001b[1;33m)\u001b[0m\u001b[1;33m\u001b[0m\u001b[1;33m\u001b[0m\u001b[0m\n\u001b[0;32m     10\u001b[0m     \u001b[1;32mreturn\u001b[0m \u001b[0mr1\u001b[0m\u001b[1;33m,\u001b[0m \u001b[0mr2\u001b[0m\u001b[1;31m#si no regreso nada no muestra nada\u001b[0m\u001b[1;33m\u001b[0m\u001b[1;33m\u001b[0m\u001b[0m\n\u001b[1;32m---> 11\u001b[1;33m \u001b[0mcuadratica\u001b[0m\u001b[1;33m(\u001b[0m\u001b[1;33m)\u001b[0m\u001b[1;33m\u001b[0m\u001b[1;33m\u001b[0m\u001b[0m\n\u001b[0m\u001b[0;32m     12\u001b[0m \u001b[1;31m#cuadratic(1,-1,-6)\u001b[0m\u001b[1;33m\u001b[0m\u001b[1;33m\u001b[0m\u001b[1;33m\u001b[0m\u001b[0m\n\u001b[0;32m     13\u001b[0m \u001b[1;31m#cuadratic(1,-2,5)\u001b[0m\u001b[1;33m\u001b[0m\u001b[1;33m\u001b[0m\u001b[1;33m\u001b[0m\u001b[0m\n",
      "\u001b[1;32m<ipython-input-59-751ff72e01b4>\u001b[0m in \u001b[0;36mcuadratica\u001b[1;34m(a, b, c)\u001b[0m\n\u001b[0;32m      7\u001b[0m \u001b[1;33m\u001b[0m\u001b[0m\n\u001b[0;32m      8\u001b[0m     \u001b[0mprint\u001b[0m\u001b[1;33m(\u001b[0m\u001b[0mr1\u001b[0m\u001b[1;33m.\u001b[0m\u001b[0mimag\u001b[0m\u001b[1;33m)\u001b[0m\u001b[1;33m\u001b[0m\u001b[1;33m\u001b[0m\u001b[0m\n\u001b[1;32m----> 9\u001b[1;33m     \u001b[0mprint\u001b[0m\u001b[1;33m(\u001b[0m\u001b[0mr2\u001b[0m\u001b[1;33m.\u001b[0m\u001b[0mim\u001b[0m\u001b[1;33m)\u001b[0m\u001b[1;33m\u001b[0m\u001b[1;33m\u001b[0m\u001b[0m\n\u001b[0m\u001b[0;32m     10\u001b[0m     \u001b[1;32mreturn\u001b[0m \u001b[0mr1\u001b[0m\u001b[1;33m,\u001b[0m \u001b[0mr2\u001b[0m\u001b[1;31m#si no regreso nada no muestra nada\u001b[0m\u001b[1;33m\u001b[0m\u001b[1;33m\u001b[0m\u001b[0m\n\u001b[0;32m     11\u001b[0m \u001b[0mcuadratica\u001b[0m\u001b[1;33m(\u001b[0m\u001b[1;33m)\u001b[0m\u001b[1;33m\u001b[0m\u001b[1;33m\u001b[0m\u001b[0m\n",
      "\u001b[1;31mAttributeError\u001b[0m: 'numpy.float64' object has no attribute 'im'"
     ]
    }
   ],
   "source": [
    "#import cmath to get complex numbers / imaginary\n",
    "#from numpy.lib.scimath import sqrt\n",
    "def cuadratica(a=1,b=6,c=2):   \n",
    "\n",
    "    r1 = (-b + sqrt(b**2 - 4*a*c))/(2*a)\n",
    "    r2 = (-b - sqrt(b**2 - 4*a*c))/(2*a)\n",
    "\n",
    "    print(r1.imag)\n",
    "    print(r2.im)\n",
    "    return r1, r2#si no regreso nada no muestra nada\n",
    "cuadratica()\n",
    "#cuadratic(1,-1,-6)\n",
    "#cuadratic(1,-2,5)\n",
    "\n",
    "\n"
   ]
  },
  {
   "cell_type": "code",
   "execution_count": 60,
   "metadata": {},
   "outputs": [
    {
     "name": "stdout",
     "output_type": "stream",
     "text": [
      "0.0\n"
     ]
    },
    {
     "ename": "AttributeError",
     "evalue": "'numpy.float64' object has no attribute 'im'",
     "output_type": "error",
     "traceback": [
      "\u001b[1;31m---------------------------------------------------------------------------\u001b[0m",
      "\u001b[1;31mAttributeError\u001b[0m                            Traceback (most recent call last)",
      "\u001b[1;32m<ipython-input-60-751ff72e01b4>\u001b[0m in \u001b[0;36m<module>\u001b[1;34m\u001b[0m\n\u001b[0;32m      9\u001b[0m     \u001b[0mprint\u001b[0m\u001b[1;33m(\u001b[0m\u001b[0mr2\u001b[0m\u001b[1;33m.\u001b[0m\u001b[0mim\u001b[0m\u001b[1;33m)\u001b[0m\u001b[1;33m\u001b[0m\u001b[1;33m\u001b[0m\u001b[0m\n\u001b[0;32m     10\u001b[0m     \u001b[1;32mreturn\u001b[0m \u001b[0mr1\u001b[0m\u001b[1;33m,\u001b[0m \u001b[0mr2\u001b[0m\u001b[1;31m#si no regreso nada no muestra nada\u001b[0m\u001b[1;33m\u001b[0m\u001b[1;33m\u001b[0m\u001b[0m\n\u001b[1;32m---> 11\u001b[1;33m \u001b[0mcuadratica\u001b[0m\u001b[1;33m(\u001b[0m\u001b[1;33m)\u001b[0m\u001b[1;33m\u001b[0m\u001b[1;33m\u001b[0m\u001b[0m\n\u001b[0m\u001b[0;32m     12\u001b[0m \u001b[1;31m#cuadratic(1,-1,-6)\u001b[0m\u001b[1;33m\u001b[0m\u001b[1;33m\u001b[0m\u001b[1;33m\u001b[0m\u001b[0m\n\u001b[0;32m     13\u001b[0m \u001b[1;31m#cuadratic(1,-2,5)\u001b[0m\u001b[1;33m\u001b[0m\u001b[1;33m\u001b[0m\u001b[1;33m\u001b[0m\u001b[0m\n",
      "\u001b[1;32m<ipython-input-60-751ff72e01b4>\u001b[0m in \u001b[0;36mcuadratica\u001b[1;34m(a, b, c)\u001b[0m\n\u001b[0;32m      7\u001b[0m \u001b[1;33m\u001b[0m\u001b[0m\n\u001b[0;32m      8\u001b[0m     \u001b[0mprint\u001b[0m\u001b[1;33m(\u001b[0m\u001b[0mr1\u001b[0m\u001b[1;33m.\u001b[0m\u001b[0mimag\u001b[0m\u001b[1;33m)\u001b[0m\u001b[1;33m\u001b[0m\u001b[1;33m\u001b[0m\u001b[0m\n\u001b[1;32m----> 9\u001b[1;33m     \u001b[0mprint\u001b[0m\u001b[1;33m(\u001b[0m\u001b[0mr2\u001b[0m\u001b[1;33m.\u001b[0m\u001b[0mim\u001b[0m\u001b[1;33m)\u001b[0m\u001b[1;33m\u001b[0m\u001b[1;33m\u001b[0m\u001b[0m\n\u001b[0m\u001b[0;32m     10\u001b[0m     \u001b[1;32mreturn\u001b[0m \u001b[0mr1\u001b[0m\u001b[1;33m,\u001b[0m \u001b[0mr2\u001b[0m\u001b[1;31m#si no regreso nada no muestra nada\u001b[0m\u001b[1;33m\u001b[0m\u001b[1;33m\u001b[0m\u001b[0m\n\u001b[0;32m     11\u001b[0m \u001b[0mcuadratica\u001b[0m\u001b[1;33m(\u001b[0m\u001b[1;33m)\u001b[0m\u001b[1;33m\u001b[0m\u001b[1;33m\u001b[0m\u001b[0m\n",
      "\u001b[1;31mAttributeError\u001b[0m: 'numpy.float64' object has no attribute 'im'"
     ]
    }
   ],
   "source": [
    "#import cmath to get complex numbers / imaginary\n",
    "#from numpy.lib.scimath import sqrt\n",
    "def cuadratica(a=1,b=6,c=2):   \n",
    "\n",
    "    r1 = (-b + sqrt(b**2 - 4*a*c))/(2*a)\n",
    "    r2 = (-b - sqrt(b**2 - 4*a*c))/(2*a)\n",
    "\n",
    "    print(r1.imag)\n",
    "    print(r2.im)\n",
    "    return r1, r2#si no regreso nada no muestra nada\n",
    "cuadratica()\n",
    "#cuadratic(1,-1,-6)\n",
    "#cuadratic(1,-2,5)\n",
    "\n",
    "\n"
   ]
  },
  {
   "cell_type": "code",
   "execution_count": 61,
   "metadata": {},
   "outputs": [
    {
     "name": "stdout",
     "output_type": "stream",
     "text": [
      "0.0\n",
      "0.0\n"
     ]
    },
    {
     "data": {
      "text/plain": [
       "(-0.3542486889354093, -5.645751311064591)"
      ]
     },
     "execution_count": 61,
     "metadata": {},
     "output_type": "execute_result"
    }
   ],
   "source": [
    "#import cmath to get complex numbers / imaginary\n",
    "#from numpy.lib.scimath import sqrt\n",
    "def cuadratica(a=1,b=6,c=2):   \n",
    "\n",
    "    r1 = (-b + sqrt(b**2 - 4*a*c))/(2*a)\n",
    "    r2 = (-b - sqrt(b**2 - 4*a*c))/(2*a)\n",
    "\n",
    "    print(r1.imag)\n",
    "    print(r2.imag)\n",
    "    return r1, r2#si no regreso nada no muestra nada\n",
    "cuadratica()\n",
    "#cuadratic(1,-1,-6)\n",
    "#cuadratic(1,-2,5)\n",
    "\n",
    "\n"
   ]
  },
  {
   "cell_type": "code",
   "execution_count": 62,
   "metadata": {},
   "outputs": [
    {
     "name": "stdout",
     "output_type": "stream",
     "text": [
      "0.0\n",
      "-5.645751311064591\n"
     ]
    },
    {
     "data": {
      "text/plain": [
       "(-0.3542486889354093, -5.645751311064591)"
      ]
     },
     "execution_count": 62,
     "metadata": {},
     "output_type": "execute_result"
    }
   ],
   "source": [
    "#import cmath to get complex numbers / imaginary\n",
    "#from numpy.lib.scimath import sqrt\n",
    "def cuadratica(a=1,b=6,c=2):   \n",
    "\n",
    "    r1 = (-b + sqrt(b**2 - 4*a*c))/(2*a)\n",
    "    r2 = (-b - sqrt(b**2 - 4*a*c))/(2*a)\n",
    "\n",
    "    print(r1.imag)\n",
    "    print(r2.real)\n",
    "    return r1, r2#si no regreso nada no muestra nada\n",
    "cuadratica()\n",
    "#cuadratic(1,-1,-6)\n",
    "#cuadratic(1,-2,5)\n",
    "\n",
    "\n"
   ]
  },
  {
   "cell_type": "code",
   "execution_count": 63,
   "metadata": {},
   "outputs": [
    {
     "name": "stdout",
     "output_type": "stream",
     "text": [
      "0.0\n",
      "-2.0\n"
     ]
    },
    {
     "data": {
      "text/plain": [
       "(3.0, -2.0)"
      ]
     },
     "execution_count": 63,
     "metadata": {},
     "output_type": "execute_result"
    }
   ],
   "source": [
    "#import cmath to get complex numbers / imaginary\n",
    "#from numpy.lib.scimath import sqrt\n",
    "#def cuadratica(a=1,b=6,c=2): \n",
    "def cuadratica(a=1,b=-1,c=-6):   \n",
    "\n",
    "    r1 = (-b + sqrt(b**2 - 4*a*c))/(2*a)\n",
    "    r2 = (-b - sqrt(b**2 - 4*a*c))/(2*a)\n",
    "\n",
    "    print(r1.imag)\n",
    "    print(r2.real)\n",
    "    return r1, r2#si no regreso nada no muestra nada\n",
    "cuadratica()\n",
    "#cuadratic(1,-1,-6)\n",
    "#cuadratic(1,-2,5)\n",
    "\n",
    "\n"
   ]
  },
  {
   "cell_type": "code",
   "execution_count": 64,
   "metadata": {},
   "outputs": [
    {
     "name": "stdout",
     "output_type": "stream",
     "text": [
      "0.0\n",
      "-1.4494897427831779\n"
     ]
    },
    {
     "data": {
      "text/plain": [
       "(3.449489742783178, -1.4494897427831779)"
      ]
     },
     "execution_count": 64,
     "metadata": {},
     "output_type": "execute_result"
    }
   ],
   "source": [
    "#import cmath to get complex numbers / imaginary\n",
    "#from numpy.lib.scimath import sqrt\n",
    "#def cuadratica(a=1,b=6,c=2): \n",
    "#def cuadratica(a=1,b=-1,c=-6):  #x=3 , x=−2 \n",
    "def cuadratica(a=1,b=-2,c=-5):#numero complex\n",
    "\n",
    "    r1 = (-b + sqrt(b**2 - 4*a*c))/(2*a)\n",
    "    r2 = (-b - sqrt(b**2 - 4*a*c))/(2*a)\n",
    "\n",
    "    print(r1.imag)\n",
    "    print(r2.real)\n",
    "    return r1, r2#si no regreso nada no muestra nada\n",
    "cuadratica()\n",
    "#cuadratic(1,-1,-6)\n",
    "#cuadratic(1,-2,5)\n",
    "\n",
    "\n"
   ]
  },
  {
   "cell_type": "code",
   "execution_count": 65,
   "metadata": {},
   "outputs": [
    {
     "name": "stdout",
     "output_type": "stream",
     "text": [
      "2.0\n",
      "1.0\n"
     ]
    },
    {
     "data": {
      "text/plain": [
       "((1+2j), (1-2j))"
      ]
     },
     "execution_count": 65,
     "metadata": {},
     "output_type": "execute_result"
    }
   ],
   "source": [
    "#import cmath to get complex numbers / imaginary\n",
    "#from numpy.lib.scimath import sqrt\n",
    "#def cuadratica(a=1,b=6,c=2): \n",
    "#def cuadratica(a=1,b=-1,c=-6):  #x=3 , x=−2 \n",
    "def cuadratica(a=1,b=-2,c=5):#numero complex\n",
    "\n",
    "    r1 = (-b + sqrt(b**2 - 4*a*c))/(2*a)\n",
    "    r2 = (-b - sqrt(b**2 - 4*a*c))/(2*a)\n",
    "\n",
    "    print(r1.imag)\n",
    "    print(r2.real)\n",
    "    return r1, r2#si no regreso nada no muestra nada\n",
    "cuadratica()\n",
    "#cuadratic(1,-1,-6)\n",
    "#cuadratic(1,-2,5)\n",
    "\n",
    "\n"
   ]
  },
  {
   "cell_type": "code",
   "execution_count": 66,
   "metadata": {},
   "outputs": [
    {
     "name": "stdout",
     "output_type": "stream",
     "text": [
      "2.0 imaginario\n",
      "1.0 real\n"
     ]
    },
    {
     "data": {
      "text/plain": [
       "((1+2j), (1-2j))"
      ]
     },
     "execution_count": 66,
     "metadata": {},
     "output_type": "execute_result"
    }
   ],
   "source": [
    "#import cmath to get complex numbers / imaginary\n",
    "#from numpy.lib.scimath import sqrt\n",
    "'''z = a + bi where a is the real part and b is the imaginary part.'''\n",
    "#def cuadratica(a=1,b=6,c=2): \n",
    "#def cuadratica(a=1,b=-1,c=-6):  #x=3 , x=−2 \n",
    "def cuadratica(a=1,b=-2,c=5):#numero complex\n",
    "\n",
    "    r1 = (-b + sqrt(b**2 - 4*a*c))/(2*a)\n",
    "    r2 = (-b - sqrt(b**2 - 4*a*c))/(2*a)\n",
    "\n",
    "    print(r1.imag,\"imaginario\")\n",
    "    print(r2.real,\"real\")\n",
    "    return r1, r2#si no regreso nada no muestra nada\n",
    "cuadratica()\n",
    "#cuadratic(1,-1,-6)\n",
    "#cuadratic(1,-2,5)\n",
    "\n",
    "\n"
   ]
  },
  {
   "cell_type": "code",
   "execution_count": 67,
   "metadata": {},
   "outputs": [
    {
     "name": "stdout",
     "output_type": "stream",
     "text": [
      "0.0 imaginario\n",
      "-1.6457513110645907 real\n"
     ]
    },
    {
     "data": {
      "text/plain": [
       "((3.6457513110645907+0j), (-1.6457513110645907+0j))"
      ]
     },
     "execution_count": 67,
     "metadata": {},
     "output_type": "execute_result"
    }
   ],
   "source": [
    "#import cmath to get complex numbers / imaginary\n",
    "#from numpy.lib.scimath import sqrt\n",
    "'''z = a + bi where a is the real part and b is the imaginary part.'''\n",
    "#def cuadratica(a=1,b=6,c=2): \n",
    "#def cuadratica(a=1,b=-1,c=-6):  #x=3 , x=−2 \n",
    "#def cuadratica(a=1,b=-2,c=5):#numero complex\n",
    "from cmath import sqrt\n",
    "def cuadratica(a,b,c):\n",
    "\n",
    "    r1 = (-b + cmath.sqrt(b**2 - 4*a*c))/(2*a)\n",
    "    r2 = (-b - cmath.sqrt(b**2 - 4*a*c))/(2*a)\n",
    "\n",
    "    print(r1.imag,\"imaginario\")\n",
    "    print(r2.real,\"real\")\n",
    "    return r1, r2#si no regreso nada no muestra nada\n",
    "cuadratica(1,-2,-6)\n",
    "\n",
    "#cuadratic(1,-1,-6)\n",
    "#cuadratic(1,-2,5)\n",
    "\n",
    "\n"
   ]
  },
  {
   "cell_type": "code",
   "execution_count": 68,
   "metadata": {},
   "outputs": [
    {
     "name": "stdout",
     "output_type": "stream",
     "text": [
      "2.0 imaginario\n",
      "1.0 real\n"
     ]
    },
    {
     "data": {
      "text/plain": [
       "((1+2j), (1-2j))"
      ]
     },
     "execution_count": 68,
     "metadata": {},
     "output_type": "execute_result"
    }
   ],
   "source": [
    "#import cmath to get complex numbers / imaginary\n",
    "#from numpy.lib.scimath import sqrt\n",
    "'''z = a + bi where a is the real part and b is the imaginary part.'''\n",
    "#def cuadratica(a=1,b=6,c=2): \n",
    "#def cuadratica(a=1,b=-1,c=-6):  #x=3 , x=−2 \n",
    "#def cuadratica(a=1,b=-2,c=5):#numero complex\n",
    "from cmath import sqrt\n",
    "def cuadratica(a,b,c):\n",
    "\n",
    "    r1 = (-b + cmath.sqrt(b**2 - 4*a*c))/(2*a)\n",
    "    r2 = (-b - cmath.sqrt(b**2 - 4*a*c))/(2*a)\n",
    "\n",
    "    print(r1.imag,\"imaginario\")\n",
    "    print(r2.real,\"real\")\n",
    "    return r1, r2#si no regreso nada no muestra nada\n",
    "cuadratica(1,-2,5)\n",
    "\n",
    "#cuadratic(1,-1,-6)\n",
    "#cuadratic(1,-2,5)\n",
    "\n",
    "\n"
   ]
  },
  {
   "cell_type": "code",
   "execution_count": 4,
   "metadata": {},
   "outputs": [
    {
     "ename": "NameError",
     "evalue": "name 'scimath' is not defined",
     "output_type": "error",
     "traceback": [
      "\u001b[1;31m---------------------------------------------------------------------------\u001b[0m",
      "\u001b[1;31mNameError\u001b[0m                                 Traceback (most recent call last)",
      "\u001b[1;32m<ipython-input-4-54c0b0c4238a>\u001b[0m in \u001b[0;36m<module>\u001b[1;34m\u001b[0m\n\u001b[0;32m      8\u001b[0m     \u001b[0mprint\u001b[0m\u001b[1;33m(\u001b[0m\u001b[0mr2\u001b[0m\u001b[1;33m.\u001b[0m\u001b[0mreal\u001b[0m\u001b[1;33m,\u001b[0m\u001b[1;34m\"real\"\u001b[0m\u001b[1;33m)\u001b[0m\u001b[1;33m\u001b[0m\u001b[1;33m\u001b[0m\u001b[0m\n\u001b[0;32m      9\u001b[0m     \u001b[1;32mreturn\u001b[0m \u001b[0mr1\u001b[0m\u001b[1;33m,\u001b[0m \u001b[0mr2\u001b[0m\u001b[1;31m#si no regreso nada no muestra nada\u001b[0m\u001b[1;33m\u001b[0m\u001b[1;33m\u001b[0m\u001b[0m\n\u001b[1;32m---> 10\u001b[1;33m \u001b[0mcuadratica\u001b[0m\u001b[1;33m(\u001b[0m\u001b[1;36m1\u001b[0m\u001b[1;33m,\u001b[0m\u001b[1;33m-\u001b[0m\u001b[1;36m2\u001b[0m\u001b[1;33m,\u001b[0m\u001b[1;36m5\u001b[0m\u001b[1;33m)\u001b[0m\u001b[1;33m\u001b[0m\u001b[1;33m\u001b[0m\u001b[0m\n\u001b[0m",
      "\u001b[1;32m<ipython-input-4-54c0b0c4238a>\u001b[0m in \u001b[0;36mcuadratica\u001b[1;34m(a, b, c)\u001b[0m\n\u001b[0;32m      2\u001b[0m \u001b[1;32mdef\u001b[0m \u001b[0mcuadratica\u001b[0m\u001b[1;33m(\u001b[0m\u001b[0ma\u001b[0m\u001b[1;33m,\u001b[0m\u001b[0mb\u001b[0m\u001b[1;33m,\u001b[0m\u001b[0mc\u001b[0m\u001b[1;33m)\u001b[0m\u001b[1;33m:\u001b[0m\u001b[1;33m\u001b[0m\u001b[1;33m\u001b[0m\u001b[0m\n\u001b[0;32m      3\u001b[0m \u001b[1;33m\u001b[0m\u001b[0m\n\u001b[1;32m----> 4\u001b[1;33m     \u001b[0mr1\u001b[0m \u001b[1;33m=\u001b[0m \u001b[1;33m(\u001b[0m\u001b[1;33m-\u001b[0m\u001b[0mb\u001b[0m \u001b[1;33m+\u001b[0m \u001b[0mscimath\u001b[0m\u001b[1;33m.\u001b[0m\u001b[0msqrt\u001b[0m\u001b[1;33m(\u001b[0m\u001b[0mb\u001b[0m\u001b[1;33m**\u001b[0m\u001b[1;36m2\u001b[0m \u001b[1;33m-\u001b[0m \u001b[1;36m4\u001b[0m\u001b[1;33m*\u001b[0m\u001b[0ma\u001b[0m\u001b[1;33m*\u001b[0m\u001b[0mc\u001b[0m\u001b[1;33m)\u001b[0m\u001b[1;33m)\u001b[0m\u001b[1;33m/\u001b[0m\u001b[1;33m(\u001b[0m\u001b[1;36m2\u001b[0m\u001b[1;33m*\u001b[0m\u001b[0ma\u001b[0m\u001b[1;33m)\u001b[0m\u001b[1;33m\u001b[0m\u001b[1;33m\u001b[0m\u001b[0m\n\u001b[0m\u001b[0;32m      5\u001b[0m     \u001b[0mr2\u001b[0m \u001b[1;33m=\u001b[0m \u001b[1;33m(\u001b[0m\u001b[1;33m-\u001b[0m\u001b[0mb\u001b[0m \u001b[1;33m-\u001b[0m \u001b[0mscimath\u001b[0m\u001b[1;33m.\u001b[0m\u001b[0msqrt\u001b[0m\u001b[1;33m(\u001b[0m\u001b[0mb\u001b[0m\u001b[1;33m**\u001b[0m\u001b[1;36m2\u001b[0m \u001b[1;33m-\u001b[0m \u001b[1;36m4\u001b[0m\u001b[1;33m*\u001b[0m\u001b[0ma\u001b[0m\u001b[1;33m*\u001b[0m\u001b[0mc\u001b[0m\u001b[1;33m)\u001b[0m\u001b[1;33m)\u001b[0m\u001b[1;33m/\u001b[0m\u001b[1;33m(\u001b[0m\u001b[1;36m2\u001b[0m\u001b[1;33m*\u001b[0m\u001b[0ma\u001b[0m\u001b[1;33m)\u001b[0m\u001b[1;33m\u001b[0m\u001b[1;33m\u001b[0m\u001b[0m\n\u001b[0;32m      6\u001b[0m \u001b[1;33m\u001b[0m\u001b[0m\n",
      "\u001b[1;31mNameError\u001b[0m: name 'scimath' is not defined"
     ]
    }
   ],
   "source": [
    "from numpy.lib.scimath import *\n",
    "def cuadratica(a,b,c):\n",
    "\n",
    "    r1 = (-b + scimath.sqrt(b**2 - 4*a*c))/(2*a)\n",
    "    r2 = (-b - scimath.sqrt(b**2 - 4*a*c))/(2*a)\n",
    "\n",
    "    print(r1.imag,\"imaginario\")\n",
    "    print(r2.real,\"real\")\n",
    "    return r1, r2#si no regreso nada no muestra nada\n",
    "cuadratica(1,-2,5)\n"
   ]
  },
  {
   "cell_type": "code",
   "execution_count": null,
   "metadata": {},
   "outputs": [],
   "source": []
  }
 ],
 "metadata": {
  "file_extension": ".py",
  "kernelspec": {
   "display_name": "Python 3",
   "language": "python",
   "name": "python3"
  },
  "language_info": {
   "codemirror_mode": {
    "name": "ipython",
    "version": 3
   },
   "file_extension": ".py",
   "mimetype": "text/x-python",
   "name": "python",
   "nbconvert_exporter": "python",
   "pygments_lexer": "ipython3",
   "version": "3.7.1"
  },
  "mimetype": "text/x-python",
  "name": "python",
  "npconvert_exporter": "python",
  "pygments_lexer": "ipython3",
  "version": 3
 },
 "nbformat": 4,
 "nbformat_minor": 2
}
