{
 "cells": [
  {
   "cell_type": "code",
   "execution_count": 0,
   "metadata": {},
   "outputs": [],
   "source": [
    "# Change directory to VSCode workspace root so that relative path loads work correctly. Turn this addition off with the DataScience.changeDirOnImportExport setting\n",
    "# ms-python.python added\n",
    "import os\n",
    "try:\n",
    "\tos.chdir(os.path.join(os.getcwd(), '..\\\\..\\hello'))\n",
    "\tprint(os.getcwd())\n",
    "except:\n",
    "\tpass\n"
   ]
  },
  {
   "cell_type": "code",
   "execution_count": 1,
   "metadata": {},
   "outputs": [
    {
     "name": "stdout",
     "output_type": "stream",
     "text": [
      "-40.0 -40.0\n",
      "-40.0 -40.0\n",
      "-35.6 -32.0\n",
      "-31.1 -24.0\n",
      "-26.7 -16.0\n",
      "-22.2  -8.0\n",
      "-17.8   0.0\n",
      "-13.3   8.0\n",
      " -8.9  16.0\n",
      " -4.4  24.0\n",
      "  0.0  32.0\n",
      "  4.4  40.0\n",
      "  8.9  48.0\n",
      " 13.3  56.0\n",
      " 17.8  64.0\n",
      " 22.2  72.0\n",
      " 26.7  80.0\n",
      " 31.1  88.0\n",
      " 35.6  96.0\n",
      " 40.0 104.0\n",
      " 44.4 112.0\n",
      " 48.9 120.0\n",
      " 53.3 128.0\n",
      " 57.8 136.0\n",
      " 62.2 144.0\n",
      " 66.7 152.0\n",
      " 71.1 160.0\n",
      " 75.6 168.0\n",
      " 80.0 176.0\n",
      " 84.4 184.0\n",
      " 88.9 192.0\n",
      " 93.3 200.0\n",
      " 97.8 208.0\n"
     ]
    }
   ],
   "source": [
    "#class 8-29-19\n",
    "\n",
    "F = -40\n",
    "C = (5.0 / 9.0)*(F -32.0) \n",
    "F = (5.0 / 9.0)*(F - 32.0); print(\"{C:5.1f} {F:5.1f}\".format(C=C,F=F))\n",
    "\n",
    "#try while loops\n",
    "#while F <=212 compute c and then print c and f. increment f by 8\n",
    "'''\n",
    "es necesario el c=c por que dice cuando veas c es igual a celcius\n",
    "'''\n",
    "F = -40\n",
    "while F <= 212:\n",
    "    C = (5.0 / 9.0)*(F -32.0)\n",
    "    print(\"{C:5.1f} {F:5.1f}\".format(C=C,F=F))\n",
    "    F = F + 8"
   ]
  },
  {
   "cell_type": "code",
   "execution_count": 2,
   "metadata": {},
   "outputs": [
    {
     "name": "stdout",
     "output_type": "stream",
     "text": [
      "-40.0 -40.0, -35.6 -32.0, -31.1 -24.0, -26.7 -16.0, -22.2  -8.0, -17.8   0.0, -13.3   8.0,  -8.9  16.0,  -4.4  24.0,   0.0  32.0,   4.4  40.0,   8.9  48.0,  13.3  56.0,  17.8  64.0,  22.2  72.0,  26.7  80.0,  31.1  88.0,  35.6  96.0,  40.0 104.0,  44.4 112.0,  48.9 120.0,  53.3 128.0,  57.8 136.0,  62.2 144.0,  66.7 152.0,  71.1 160.0,  75.6 168.0,  80.0 176.0,  84.4 184.0,  88.9 192.0,  93.3 200.0,  97.8 208.0,"
     ]
    }
   ],
   "source": [
    "F = -40\n",
    "while F <= 212:\n",
    "    C = (5.0 / 9.0)*(F -32.0)\n",
    "    print(\"{C:5.1f} {F:5.1f}\".format(C=C,F=F), end=\", \")\n",
    "    F = F + 8\n"
   ]
  }
 ],
 "metadata": {
  "file_extension": ".py",
  "kernelspec": {
   "display_name": "Python 3",
   "language": "python",
   "name": "python3"
  },
  "language_info": {
   "codemirror_mode": {
    "name": "ipython",
    "version": 3
   },
   "file_extension": ".py",
   "mimetype": "text/x-python",
   "name": "python",
   "nbconvert_exporter": "python",
   "pygments_lexer": "ipython3",
   "version": "3.7.1"
  },
  "mimetype": "text/x-python",
  "name": "python",
  "npconvert_exporter": "python",
  "pygments_lexer": "ipython3",
  "version": 3
 },
 "nbformat": 4,
 "nbformat_minor": 2
}
